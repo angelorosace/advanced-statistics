{
 "cells": [
  {
   "cell_type": "markdown",
   "metadata": {},
   "source": [
    "# Assignment 6\n",
    "\n",
    "### Angelo Rosace"
   ]
  },
  {
   "cell_type": "markdown",
   "metadata": {},
   "source": [
    "#### 1st Assignment statement\n",
    "\n",
    "Program a function that given a causal graph (in matrix form) computes the\n",
    "basis set of independences to be checked to assert if that graph is a feasible causal\n",
    "structure.\n",
    "\n",
    "For the purpose of writing this function we suppose to have an acyclic causal graph."
   ]
  },
  {
   "cell_type": "code",
   "execution_count": 64,
   "metadata": {},
   "outputs": [
    {
     "name": "stdout",
     "output_type": "stream",
     "text": [
      "{(0, 2): [1], (0, 3): [1], (0, 4): [2, 3, 5], (0, 5): [], (1, 4): [0, 2, 3, 5], (1, 5): [0], (2, 3): [1], (2, 5): [1], (3, 5): [1]}\n"
     ]
    }
   ],
   "source": [
    "example_M = [[0,1,0,0,0,0],\n",
    "             [0,0,1,1,0,0],\n",
    "             [0,0,0,0,1,0],\n",
    "             [0,0,0,0,1,0],\n",
    "             [0,0,0,0,0,0],\n",
    "             [0,0,0,0,1,0]]\n",
    "\n",
    "example2_M = [[0,1,1,0,0,0],\n",
    "             [0,0,0,0,0,0],\n",
    "             [0,0,0,1,0,0],\n",
    "             [0,0,0,0,1,1],\n",
    "             [0,0,0,0,0,0],\n",
    "             [0,0,0,0,0,0],\n",
    "             [0,1,0,0,0,0]]\n",
    "\n",
    "def get_parents(node, matrix):\n",
    "    parents = []\n",
    "    if node == 0:\n",
    "        return []\n",
    "    for i,col in enumerate(matrix):\n",
    "        if col[node] == 1:\n",
    "            parents.append(i)\n",
    "    return parents\n",
    "        \n",
    "def basis_set(matrix):\n",
    "    #non adjacent nodes => parents of the two vertices in the pair of non adjacent nodes\n",
    "    basis = {}\n",
    "    for i,row in enumerate(matrix):\n",
    "        for j,col in enumerate(matrix[i]):\n",
    "            if not col == 1 and not i >= j and sum(matrix[i]) > 0:\n",
    "                non_adj_nodes = (i,j)\n",
    "                parents_i = get_parents(i,matrix)\n",
    "                parents_j = get_parents(j,matrix)\n",
    "                parents= list(set(parents_i + parents_j))\n",
    "                basis[non_adj_nodes] = parents\n",
    "    return basis\n",
    "\n",
    "basis_set = basis_set(example_M)\n",
    "print(basis_set)\n",
    "    "
   ]
  },
  {
   "cell_type": "markdown",
   "metadata": {},
   "source": [
    "The output above represents the sets of undirected edges and their corresponding parents."
   ]
  },
  {
   "cell_type": "markdown",
   "metadata": {},
   "source": [
    "#### 2nd Assignment statement\n",
    "\n",
    "Program a function that given a basis set and data for all the variables computes the independences given the data (using Pearson Correlation) and returns True if the independences are observed. The threshold of correlation to consider independent or dependent two variables is a parameter of the function."
   ]
  },
  {
   "cell_type": "markdown",
   "metadata": {},
   "source": [
    "The assignment asks us to use Pearson Correlation. In order to asses the significance of the pearson correlation coefficients that we are going to calculate we will apply a Student's t test.\n",
    "If the variables, sampled randomly and measured on n units, are independent (the null hypothesis is that ⍴=0) then the following transformation will follow a Student’s t-distribution with n-2 degrees of freedom:\n",
    "\n",
    "**t = [r*(n-2)^(1/2)] * [(1-r^2)^(1/2)]**"
   ]
  },
  {
   "cell_type": "code",
   "execution_count": 66,
   "metadata": {},
   "outputs": [
    {
     "name": "stdout",
     "output_type": "stream",
     "text": [
      "The independences are not observed\n",
      "The independences are not observed\n"
     ]
    },
    {
     "data": {
      "text/plain": [
       "False"
      ]
     },
     "execution_count": 66,
     "metadata": {},
     "output_type": "execute_result"
    }
   ],
   "source": [
    "import numpy as np\n",
    "from scipy.stats import pearsonr\n",
    "import math\n",
    "import pandas as pd\n",
    "\n",
    "from scipy import stats, linalg\n",
    "\n",
    "def create_data_set(number_of_variables,size):\n",
    "    data = {}\n",
    "    for i in range(number_of_variables):\n",
    "        randnums = np.random.randint(1,10,size)\n",
    "        data[i] = randnums\n",
    "    return pd.DataFrame(data)\n",
    "\n",
    "def condition(subsets,conditions):\n",
    "    if not conditions:\n",
    "        return subsets\n",
    "    sub_data = []\n",
    "    for subset in subsets:\n",
    "        unique_values = list(set(list(subset[conditions[0]])))\n",
    "        for value in unique_values:\n",
    "            sub = subset[subset[conditions[0]] == value]\n",
    "            if len(sub) >= 1:\n",
    "                sub_data.append(sub)\n",
    "    return condition(sub_data,conditions[1:])\n",
    "\n",
    "def t_r(r,n):\n",
    "    return (r*math.sqrt((n-2)))*((math.sqrt(1-(r**2))))     \n",
    "\n",
    "def check_independence(basis_set, data, threshold):\n",
    "    indep = False\n",
    "    observed_indep = []\n",
    "    for relation in basis_set:\n",
    "        n = len(data[relation[0]])\n",
    "        if len(basis_set[relation]) == 0:\n",
    "            if len(data[relation[0]]) >= 2 and len(data[relation[1]]) >= 2:\n",
    "                r = pearsonr(data[relation[0]],data[relation[1]])[0]\n",
    "                t = t_r(r,n)\n",
    "                if t < threshold:\n",
    "                    indep = True\n",
    "                observed_indep.append(indep)\n",
    "        else:\n",
    "            result = []\n",
    "            sets = condition([data],basis_set[relation])\n",
    "            r = 0\n",
    "            overall_weigth = 0\n",
    "            for s in sets:\n",
    "                overall_weigth += len(s)\n",
    "                if len(s[relation[0]]) >= 2 and len(s[relation[1]]) >= 2:\n",
    "                    r += (pearsonr(s[relation[0]],s[relation[1]])[0])*len(s)\n",
    "            weigthed_r = r/overall_weigth\n",
    "            t = t_r(weigthed_r,n)\n",
    "            if t < threshold:\n",
    "                indep = True\n",
    "            observed_indep.append(indep)\n",
    "                \n",
    "    if observed_indep == True:\n",
    "        print(\"The independences are observed\")\n",
    "        return True\n",
    "    else:\n",
    "        print(\"The independences are not observed\")\n",
    "        return False\n",
    "\n",
    "data_set = create_data_set(len(example_M),1000)\n",
    "check_independence(basis_set,data_set,0.05)\n",
    "\n",
    "data_set2 = create_data_set(len(example2_M),1000)\n",
    "check_independence(basis_set,data_set,0.05)"
   ]
  },
  {
   "cell_type": "code",
   "execution_count": null,
   "metadata": {},
   "outputs": [],
   "source": []
  }
 ],
 "metadata": {
  "kernelspec": {
   "display_name": "Python 3",
   "language": "python",
   "name": "python3"
  },
  "language_info": {
   "codemirror_mode": {
    "name": "ipython",
    "version": 3
   },
   "file_extension": ".py",
   "mimetype": "text/x-python",
   "name": "python",
   "nbconvert_exporter": "python",
   "pygments_lexer": "ipython3",
   "version": "3.7.4"
  }
 },
 "nbformat": 4,
 "nbformat_minor": 2
}
