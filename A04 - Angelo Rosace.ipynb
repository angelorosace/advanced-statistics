{
 "cells": [
  {
   "cell_type": "markdown",
   "metadata": {},
   "source": [
    "# Assignment 4\n",
    "\n",
    "## Angelo Rosace"
   ]
  },
  {
   "cell_type": "markdown",
   "metadata": {},
   "source": [
    "#### 1st Assignment statement\n",
    "\n",
    "Airbnb offers public data about its activities. We will focus on the file listing the available apartments in Barcelona in 2019.\n",
    "\n",
    "We want to make a Naive Bayes Classifier that allow us to tell the neighbour where an apartment could be based on its latitude and longitude coordinates, to assign them to some apartments were the owner forget to upload it.\n",
    "To test if its working just train it with 1000 apartments randomly chosen within the whole file, and test it for another different 1000. Which is the accuracy of your predictions."
   ]
  },
  {
   "cell_type": "code",
   "execution_count": 1,
   "metadata": {},
   "outputs": [],
   "source": [
    "import random as ra\n",
    "import matplotlib.pyplot as plt\n",
    "import pandas as pd\n",
    "import numpy as np\n",
    "from scipy.stats import norm"
   ]
  },
  {
   "cell_type": "markdown",
   "metadata": {},
   "source": [
    "In order to takle the problem proposed by the assignment we would first have to load our data into a list and inspect them. Inspecting them will allow us to understand how the data i structured and will shed a light on how to handle them."
   ]
  },
  {
   "cell_type": "code",
   "execution_count": 2,
   "metadata": {},
   "outputs": [
    {
     "data": {
      "text/html": [
       "<div>\n",
       "<style scoped>\n",
       "    .dataframe tbody tr th:only-of-type {\n",
       "        vertical-align: middle;\n",
       "    }\n",
       "\n",
       "    .dataframe tbody tr th {\n",
       "        vertical-align: top;\n",
       "    }\n",
       "\n",
       "    .dataframe thead th {\n",
       "        text-align: right;\n",
       "    }\n",
       "</style>\n",
       "<table border=\"1\" class=\"dataframe\">\n",
       "  <thead>\n",
       "    <tr style=\"text-align: right;\">\n",
       "      <th></th>\n",
       "      <th>id</th>\n",
       "      <th>name</th>\n",
       "      <th>host_id</th>\n",
       "      <th>host_name</th>\n",
       "      <th>neighbourhood_group</th>\n",
       "      <th>neighbourhood</th>\n",
       "      <th>latitude</th>\n",
       "      <th>longitude</th>\n",
       "      <th>room_type</th>\n",
       "      <th>price</th>\n",
       "      <th>minimum_nights</th>\n",
       "      <th>number_of_reviews</th>\n",
       "      <th>last_review</th>\n",
       "      <th>reviews_per_month</th>\n",
       "      <th>calculated_host_listings_count</th>\n",
       "      <th>availability_365</th>\n",
       "    </tr>\n",
       "  </thead>\n",
       "  <tbody>\n",
       "    <tr>\n",
       "      <td>0</td>\n",
       "      <td>18666</td>\n",
       "      <td>Flat with Sunny Terrace</td>\n",
       "      <td>71615</td>\n",
       "      <td>Mireia And Maria</td>\n",
       "      <td>Sant Martí</td>\n",
       "      <td>el Camp de l'Arpa del Clot</td>\n",
       "      <td>41.40889</td>\n",
       "      <td>2.18555</td>\n",
       "      <td>Entire home/apt</td>\n",
       "      <td>130</td>\n",
       "      <td>3</td>\n",
       "      <td>1</td>\n",
       "      <td>2015-10-10</td>\n",
       "      <td>0.02</td>\n",
       "      <td>30</td>\n",
       "      <td>304</td>\n",
       "    </tr>\n",
       "    <tr>\n",
       "      <td>1</td>\n",
       "      <td>18674</td>\n",
       "      <td>Huge flat for 8 people close to Sagrada Familia</td>\n",
       "      <td>71615</td>\n",
       "      <td>Mireia And Maria</td>\n",
       "      <td>Eixample</td>\n",
       "      <td>la Sagrada Família</td>\n",
       "      <td>41.40420</td>\n",
       "      <td>2.17306</td>\n",
       "      <td>Entire home/apt</td>\n",
       "      <td>60</td>\n",
       "      <td>1</td>\n",
       "      <td>20</td>\n",
       "      <td>2019-10-19</td>\n",
       "      <td>0.25</td>\n",
       "      <td>30</td>\n",
       "      <td>312</td>\n",
       "    </tr>\n",
       "    <tr>\n",
       "      <td>2</td>\n",
       "      <td>23197</td>\n",
       "      <td>FORUM DELUXE 5 MINS WALK  CCIB CENTER &amp; SEA!</td>\n",
       "      <td>90417</td>\n",
       "      <td>Etain (Marnie)</td>\n",
       "      <td>Sant Martí</td>\n",
       "      <td>el Besòs i el Maresme</td>\n",
       "      <td>41.41203</td>\n",
       "      <td>2.22114</td>\n",
       "      <td>Entire home/apt</td>\n",
       "      <td>210</td>\n",
       "      <td>3</td>\n",
       "      <td>51</td>\n",
       "      <td>2019-09-29</td>\n",
       "      <td>0.48</td>\n",
       "      <td>2</td>\n",
       "      <td>359</td>\n",
       "    </tr>\n",
       "    <tr>\n",
       "      <td>3</td>\n",
       "      <td>25786</td>\n",
       "      <td>NICE ROOM AVAILABLE IN THE HEART OF GRACIA</td>\n",
       "      <td>108310</td>\n",
       "      <td>Pedro</td>\n",
       "      <td>Gràcia</td>\n",
       "      <td>la Vila de Gràcia</td>\n",
       "      <td>41.40145</td>\n",
       "      <td>2.15645</td>\n",
       "      <td>Private room</td>\n",
       "      <td>32</td>\n",
       "      <td>1</td>\n",
       "      <td>268</td>\n",
       "      <td>2019-11-06</td>\n",
       "      <td>2.38</td>\n",
       "      <td>1</td>\n",
       "      <td>46</td>\n",
       "    </tr>\n",
       "    <tr>\n",
       "      <td>4</td>\n",
       "      <td>31958</td>\n",
       "      <td>Gaudi Attic 1, Friendly Rentals</td>\n",
       "      <td>136853</td>\n",
       "      <td>Fidelio</td>\n",
       "      <td>Gràcia</td>\n",
       "      <td>el Camp d'en Grassot i Gràcia Nova</td>\n",
       "      <td>41.40950</td>\n",
       "      <td>2.15938</td>\n",
       "      <td>Entire home/apt</td>\n",
       "      <td>60</td>\n",
       "      <td>1</td>\n",
       "      <td>182</td>\n",
       "      <td>2019-10-16</td>\n",
       "      <td>1.71</td>\n",
       "      <td>39</td>\n",
       "      <td>324</td>\n",
       "    </tr>\n",
       "    <tr>\n",
       "      <td>...</td>\n",
       "      <td>...</td>\n",
       "      <td>...</td>\n",
       "      <td>...</td>\n",
       "      <td>...</td>\n",
       "      <td>...</td>\n",
       "      <td>...</td>\n",
       "      <td>...</td>\n",
       "      <td>...</td>\n",
       "      <td>...</td>\n",
       "      <td>...</td>\n",
       "      <td>...</td>\n",
       "      <td>...</td>\n",
       "      <td>...</td>\n",
       "      <td>...</td>\n",
       "      <td>...</td>\n",
       "      <td>...</td>\n",
       "    </tr>\n",
       "    <tr>\n",
       "      <td>20423</td>\n",
       "      <td>39968822</td>\n",
       "      <td>Bright, sunshine white sophisticated</td>\n",
       "      <td>285303484</td>\n",
       "      <td>Ann</td>\n",
       "      <td>Horta-Guinardó</td>\n",
       "      <td>el Baix Guinardó</td>\n",
       "      <td>41.41177</td>\n",
       "      <td>2.16373</td>\n",
       "      <td>Entire home/apt</td>\n",
       "      <td>50</td>\n",
       "      <td>32</td>\n",
       "      <td>0</td>\n",
       "      <td>NaN</td>\n",
       "      <td>NaN</td>\n",
       "      <td>1</td>\n",
       "      <td>349</td>\n",
       "    </tr>\n",
       "    <tr>\n",
       "      <td>20424</td>\n",
       "      <td>39969034</td>\n",
       "      <td>Fabulous, Modern Barcelona 2 Bedroom Apartment...</td>\n",
       "      <td>268096872</td>\n",
       "      <td>Allianz</td>\n",
       "      <td>Ciutat Vella</td>\n",
       "      <td>el Barri Gòtic</td>\n",
       "      <td>41.38576</td>\n",
       "      <td>2.17438</td>\n",
       "      <td>Entire home/apt</td>\n",
       "      <td>508</td>\n",
       "      <td>3</td>\n",
       "      <td>0</td>\n",
       "      <td>NaN</td>\n",
       "      <td>NaN</td>\n",
       "      <td>11</td>\n",
       "      <td>362</td>\n",
       "    </tr>\n",
       "    <tr>\n",
       "      <td>20425</td>\n",
       "      <td>39969285</td>\n",
       "      <td>Spectacular Luxurious 6 Bedroom Penthouse w/ P...</td>\n",
       "      <td>268096872</td>\n",
       "      <td>Allianz</td>\n",
       "      <td>Eixample</td>\n",
       "      <td>la Sagrada Família</td>\n",
       "      <td>41.40758</td>\n",
       "      <td>2.17242</td>\n",
       "      <td>Entire home/apt</td>\n",
       "      <td>1031</td>\n",
       "      <td>3</td>\n",
       "      <td>0</td>\n",
       "      <td>NaN</td>\n",
       "      <td>NaN</td>\n",
       "      <td>11</td>\n",
       "      <td>362</td>\n",
       "    </tr>\n",
       "    <tr>\n",
       "      <td>20426</td>\n",
       "      <td>39972885</td>\n",
       "      <td>Couples` Home with Parking</td>\n",
       "      <td>252088393</td>\n",
       "      <td>Joseph R.</td>\n",
       "      <td>Ciutat Vella</td>\n",
       "      <td>Sant Pere, Santa Caterina i la Ribera</td>\n",
       "      <td>41.39138</td>\n",
       "      <td>2.18240</td>\n",
       "      <td>Entire home/apt</td>\n",
       "      <td>89</td>\n",
       "      <td>3</td>\n",
       "      <td>0</td>\n",
       "      <td>NaN</td>\n",
       "      <td>NaN</td>\n",
       "      <td>1</td>\n",
       "      <td>22</td>\n",
       "    </tr>\n",
       "    <tr>\n",
       "      <td>20427</td>\n",
       "      <td>39973807</td>\n",
       "      <td>Un lugar de descanso para tus vacaciones</td>\n",
       "      <td>303423208</td>\n",
       "      <td>Juanito</td>\n",
       "      <td>Eixample</td>\n",
       "      <td>la Sagrada Família</td>\n",
       "      <td>41.40357</td>\n",
       "      <td>2.17408</td>\n",
       "      <td>Private room</td>\n",
       "      <td>50</td>\n",
       "      <td>1</td>\n",
       "      <td>0</td>\n",
       "      <td>NaN</td>\n",
       "      <td>NaN</td>\n",
       "      <td>3</td>\n",
       "      <td>362</td>\n",
       "    </tr>\n",
       "  </tbody>\n",
       "</table>\n",
       "<p>20428 rows × 16 columns</p>\n",
       "</div>"
      ],
      "text/plain": [
       "             id                                               name    host_id  \\\n",
       "0         18666                            Flat with Sunny Terrace      71615   \n",
       "1         18674    Huge flat for 8 people close to Sagrada Familia      71615   \n",
       "2         23197       FORUM DELUXE 5 MINS WALK  CCIB CENTER & SEA!      90417   \n",
       "3         25786         NICE ROOM AVAILABLE IN THE HEART OF GRACIA     108310   \n",
       "4         31958                    Gaudi Attic 1, Friendly Rentals     136853   \n",
       "...         ...                                                ...        ...   \n",
       "20423  39968822               Bright, sunshine white sophisticated  285303484   \n",
       "20424  39969034  Fabulous, Modern Barcelona 2 Bedroom Apartment...  268096872   \n",
       "20425  39969285  Spectacular Luxurious 6 Bedroom Penthouse w/ P...  268096872   \n",
       "20426  39972885                         Couples` Home with Parking  252088393   \n",
       "20427  39973807           Un lugar de descanso para tus vacaciones  303423208   \n",
       "\n",
       "              host_name neighbourhood_group  \\\n",
       "0      Mireia And Maria          Sant Martí   \n",
       "1      Mireia And Maria            Eixample   \n",
       "2        Etain (Marnie)          Sant Martí   \n",
       "3                 Pedro              Gràcia   \n",
       "4               Fidelio              Gràcia   \n",
       "...                 ...                 ...   \n",
       "20423               Ann      Horta-Guinardó   \n",
       "20424           Allianz        Ciutat Vella   \n",
       "20425           Allianz            Eixample   \n",
       "20426         Joseph R.        Ciutat Vella   \n",
       "20427           Juanito            Eixample   \n",
       "\n",
       "                               neighbourhood  latitude  longitude  \\\n",
       "0                 el Camp de l'Arpa del Clot  41.40889    2.18555   \n",
       "1                         la Sagrada Família  41.40420    2.17306   \n",
       "2                      el Besòs i el Maresme  41.41203    2.22114   \n",
       "3                          la Vila de Gràcia  41.40145    2.15645   \n",
       "4         el Camp d'en Grassot i Gràcia Nova  41.40950    2.15938   \n",
       "...                                      ...       ...        ...   \n",
       "20423                       el Baix Guinardó  41.41177    2.16373   \n",
       "20424                         el Barri Gòtic  41.38576    2.17438   \n",
       "20425                     la Sagrada Família  41.40758    2.17242   \n",
       "20426  Sant Pere, Santa Caterina i la Ribera  41.39138    2.18240   \n",
       "20427                     la Sagrada Família  41.40357    2.17408   \n",
       "\n",
       "             room_type  price  minimum_nights  number_of_reviews last_review  \\\n",
       "0      Entire home/apt    130               3                  1  2015-10-10   \n",
       "1      Entire home/apt     60               1                 20  2019-10-19   \n",
       "2      Entire home/apt    210               3                 51  2019-09-29   \n",
       "3         Private room     32               1                268  2019-11-06   \n",
       "4      Entire home/apt     60               1                182  2019-10-16   \n",
       "...                ...    ...             ...                ...         ...   \n",
       "20423  Entire home/apt     50              32                  0         NaN   \n",
       "20424  Entire home/apt    508               3                  0         NaN   \n",
       "20425  Entire home/apt   1031               3                  0         NaN   \n",
       "20426  Entire home/apt     89               3                  0         NaN   \n",
       "20427     Private room     50               1                  0         NaN   \n",
       "\n",
       "       reviews_per_month  calculated_host_listings_count  availability_365  \n",
       "0                   0.02                              30               304  \n",
       "1                   0.25                              30               312  \n",
       "2                   0.48                               2               359  \n",
       "3                   2.38                               1                46  \n",
       "4                   1.71                              39               324  \n",
       "...                  ...                             ...               ...  \n",
       "20423                NaN                               1               349  \n",
       "20424                NaN                              11               362  \n",
       "20425                NaN                              11               362  \n",
       "20426                NaN                               1                22  \n",
       "20427                NaN                               3               362  \n",
       "\n",
       "[20428 rows x 16 columns]"
      ]
     },
     "execution_count": 2,
     "metadata": {},
     "output_type": "execute_result"
    }
   ],
   "source": [
    "appartments = pd.read_csv(\"listings.csv\", header = [0], sep = \",\")\n",
    "appartments"
   ]
  },
  {
   "cell_type": "markdown",
   "metadata": {},
   "source": [
    "The assignment asks us to just take in consideration altitude and longitude and neighborhood, therefore I will create a subset of the data that just holds informatin for this three variables."
   ]
  },
  {
   "cell_type": "code",
   "execution_count": 3,
   "metadata": {},
   "outputs": [
    {
     "data": {
      "text/html": [
       "<div>\n",
       "<style scoped>\n",
       "    .dataframe tbody tr th:only-of-type {\n",
       "        vertical-align: middle;\n",
       "    }\n",
       "\n",
       "    .dataframe tbody tr th {\n",
       "        vertical-align: top;\n",
       "    }\n",
       "\n",
       "    .dataframe thead th {\n",
       "        text-align: right;\n",
       "    }\n",
       "</style>\n",
       "<table border=\"1\" class=\"dataframe\">\n",
       "  <thead>\n",
       "    <tr style=\"text-align: right;\">\n",
       "      <th></th>\n",
       "      <th>neighbourhood_group</th>\n",
       "      <th>latitude</th>\n",
       "      <th>longitude</th>\n",
       "    </tr>\n",
       "  </thead>\n",
       "  <tbody>\n",
       "    <tr>\n",
       "      <td>0</td>\n",
       "      <td>Sant Martí</td>\n",
       "      <td>41.40889</td>\n",
       "      <td>2.18555</td>\n",
       "    </tr>\n",
       "    <tr>\n",
       "      <td>1</td>\n",
       "      <td>Eixample</td>\n",
       "      <td>41.40420</td>\n",
       "      <td>2.17306</td>\n",
       "    </tr>\n",
       "    <tr>\n",
       "      <td>2</td>\n",
       "      <td>Sant Martí</td>\n",
       "      <td>41.41203</td>\n",
       "      <td>2.22114</td>\n",
       "    </tr>\n",
       "    <tr>\n",
       "      <td>3</td>\n",
       "      <td>Gràcia</td>\n",
       "      <td>41.40145</td>\n",
       "      <td>2.15645</td>\n",
       "    </tr>\n",
       "    <tr>\n",
       "      <td>4</td>\n",
       "      <td>Gràcia</td>\n",
       "      <td>41.40950</td>\n",
       "      <td>2.15938</td>\n",
       "    </tr>\n",
       "    <tr>\n",
       "      <td>...</td>\n",
       "      <td>...</td>\n",
       "      <td>...</td>\n",
       "      <td>...</td>\n",
       "    </tr>\n",
       "    <tr>\n",
       "      <td>20423</td>\n",
       "      <td>Horta-Guinardó</td>\n",
       "      <td>41.41177</td>\n",
       "      <td>2.16373</td>\n",
       "    </tr>\n",
       "    <tr>\n",
       "      <td>20424</td>\n",
       "      <td>Ciutat Vella</td>\n",
       "      <td>41.38576</td>\n",
       "      <td>2.17438</td>\n",
       "    </tr>\n",
       "    <tr>\n",
       "      <td>20425</td>\n",
       "      <td>Eixample</td>\n",
       "      <td>41.40758</td>\n",
       "      <td>2.17242</td>\n",
       "    </tr>\n",
       "    <tr>\n",
       "      <td>20426</td>\n",
       "      <td>Ciutat Vella</td>\n",
       "      <td>41.39138</td>\n",
       "      <td>2.18240</td>\n",
       "    </tr>\n",
       "    <tr>\n",
       "      <td>20427</td>\n",
       "      <td>Eixample</td>\n",
       "      <td>41.40357</td>\n",
       "      <td>2.17408</td>\n",
       "    </tr>\n",
       "  </tbody>\n",
       "</table>\n",
       "<p>20428 rows × 3 columns</p>\n",
       "</div>"
      ],
      "text/plain": [
       "      neighbourhood_group  latitude  longitude\n",
       "0              Sant Martí  41.40889    2.18555\n",
       "1                Eixample  41.40420    2.17306\n",
       "2              Sant Martí  41.41203    2.22114\n",
       "3                  Gràcia  41.40145    2.15645\n",
       "4                  Gràcia  41.40950    2.15938\n",
       "...                   ...       ...        ...\n",
       "20423      Horta-Guinardó  41.41177    2.16373\n",
       "20424        Ciutat Vella  41.38576    2.17438\n",
       "20425            Eixample  41.40758    2.17242\n",
       "20426        Ciutat Vella  41.39138    2.18240\n",
       "20427            Eixample  41.40357    2.17408\n",
       "\n",
       "[20428 rows x 3 columns]"
      ]
     },
     "execution_count": 3,
     "metadata": {},
     "output_type": "execute_result"
    }
   ],
   "source": [
    "appartment_useful_prop = appartments[[\"neighbourhood_group\",\"latitude\",\"longitude\"]].copy()\n",
    "appartment_useful_prop"
   ]
  },
  {
   "cell_type": "markdown",
   "metadata": {},
   "source": [
    "Once we created our data set of interest we can go over to implement the arlogrithm. First of all I will implement a class describing the object *Appartment*"
   ]
  },
  {
   "cell_type": "code",
   "execution_count": 4,
   "metadata": {},
   "outputs": [],
   "source": [
    "class Appartment( object ):\n",
    "    \n",
    "    def __init__(self, latitude, longitude, neighbourhood):\n",
    "        self.latitude=latitude\n",
    "        self.longitude=longitude\n",
    "        self.neighbourhood=neighbourhood\n",
    "    \n",
    "    def getFeaturesDict(self): return {\"latitude\":self.latitude, \"longitude\": self.longitude, \"neighbourhood\": self.neighbourhood}\n",
    "    \n",
    "    def getNeighbourhood(self): return self.neighbourhood\n",
    "    \n",
    "    def getLatitude(self): return self.latitude\n",
    "    \n",
    "    def getLongitude(self): return self.longitude"
   ]
  },
  {
   "cell_type": "markdown",
   "metadata": {},
   "source": [
    "Now that I create an object implementation of the class Appartment I can convert my data into objects and store them in a list."
   ]
  },
  {
   "cell_type": "code",
   "execution_count": 5,
   "metadata": {},
   "outputs": [],
   "source": [
    "to_objs = [list(appartment_useful_prop.loc[i]) for i in range(len(appartment_useful_prop))]\n",
    "objs = [Appartment(item[1],item[2],item[0]) for item in to_objs]"
   ]
  },
  {
   "cell_type": "markdown",
   "metadata": {},
   "source": [
    "To comply with the statement of the assignment I will use a training set of 1000 appartments and test the model against other 1000 appartments. I will therefore generate both training and testing set."
   ]
  },
  {
   "cell_type": "code",
   "execution_count": 6,
   "metadata": {},
   "outputs": [],
   "source": [
    "train_set = ra.sample(objs,k=1000)\n",
    "test_set = ra.sample(objs,k=1000)\n",
    "test_set_without_neighbourhood = [[i.getLatitude(), i.getLongitude()] for i in test_set]"
   ]
  },
  {
   "cell_type": "markdown",
   "metadata": {},
   "source": [
    "The way the elements to put in the different sets where chosen was supposely random. For both sets a random sample of 1000 elements has been selected.  \n",
    "\n",
    "Now that our two sets are ready we can finally go over to implementing the naive bayes algorithm."
   ]
  },
  {
   "cell_type": "code",
   "execution_count": 7,
   "metadata": {},
   "outputs": [],
   "source": [
    "class NaiveBayesOfAppartments( object ):\n",
    " \n",
    "    def _distributionProbFunction(self,neighbourhood, Property):\n",
    "        # Return the result of evaluating a Normal distribution of:\n",
    "        #   mean equal to the mean of the property for this type of appartment\n",
    "        #   std  equal to the std  of the property for this type of appartment\n",
    "        return lambda x: norm.pdf( x, self.cmean[neighbourhood][Property],self.cstdv[neighbourhood][Property] )\n",
    "        \n",
    "    def __init__(self, appartments):\n",
    "        self.appartments = appartments\n",
    " \n",
    "        self.neighbourhoods = {}\n",
    "        for appartment in self.appartments:\n",
    "            if appartment.getNeighbourhood() in self.neighbourhoods.keys():\n",
    "                self.neighbourhoods[appartment.getNeighbourhood()] += 1\n",
    "            else: self.neighbourhoods[appartment.getNeighbourhood()] = 1\n",
    " \n",
    "        self.probl = {}\n",
    "        self.N = len(self.appartments[0].getFeaturesDict())\n",
    "        self.properties = list(self.appartments[0].getFeaturesDict().keys())\n",
    "        self.cmean = {}\n",
    "        self.cstdv = {}\n",
    "        self.prob = {}\n",
    "        \n",
    "        for neighbourhood in self.neighbourhoods.keys():\n",
    "            # The amount of appartments of each type that I have in my \"training\" dataset\n",
    "            self.probl[neighbourhood] = self.neighbourhoods[neighbourhood]/len(self.appartments)\n",
    "            \n",
    "            # I will store the mean, std, and normal probabiblity function,\n",
    "            # of each property for each type of appartments\n",
    "            self.cmean[neighbourhood] = {} #[0 for i in range(self.N)]\n",
    "            self.cstdv[neighbourhood] = {} #[0 for i in range(self.N)]\n",
    "            self.prob[neighbourhood] = {} #[0 for i in range(self.N)]\n",
    "            \n",
    "            # Then, for each property\n",
    "            for i, prop in enumerate(self.properties):\n",
    "                # Make a numpy array taking the list of the read properties\n",
    "                try:\n",
    "                    xi = np.array([float(e.getFeaturesDict()[prop]) for e in self.appartments if e.getNeighbourhood() == neighbourhood])\n",
    "                except:\n",
    "                    #This pass statement has been inserted becaused python would not allow turning the type of the variable to float.\n",
    "                    #Although the e.getFeaturesDict()[prop] value should just be an integer variable, python recognize it as a tuple (int, string). THe string part of the tuple\n",
    "                    #raises the exception. We know that the exception does not make sense because by printing the array xi we actually see that it just contains integer values.\n",
    "                    #that is why we just pass the exception.\n",
    "                    pass\n",
    "                # Fullfill the mean with the mean, the std with the std and the prob with the probability function\n",
    "                self.cmean[neighbourhood][prop] = xi.mean()\n",
    "                self.cstdv[neighbourhood][prop] = xi.std()\n",
    "                self.prob[neighbourhood][prop] = self._distributionProbFunction(neighbourhood,prop)\n",
    "\n",
    "    def predict(self, X):\n",
    "        p = {}\n",
    "        \n",
    "        # In the moment of predicting I have the probabilities of each feature of belonging to each class.\n",
    "        for neighbourhood in self.neighbourhoods.keys():\n",
    "            vectorToMultiply = [self._distributionProbFunction(neighbourhood,prop)(X[i]) for i, prop in enumerate(self.properties[:-1]) if self._distributionProbFunction(neighbourhood,prop)(X[i]) != 0.0 ]\n",
    "            \n",
    "            cp = np.prod( vectorToMultiply )\n",
    "            \n",
    "            p[neighbourhood] = self.probl[neighbourhood]*cp\n",
    "            \n",
    "        results = [(p[neighbourhood],neighbourhood) for neighbourhood in self.neighbourhoods.keys()]\n",
    "        results.sort()\n",
    "        return [results[-1][1], results[-1][0]/sum([r[0] for r in results])]\n",
    "\n",
    "    def plotDistributions(self):\n",
    "        for i, prop in enumerate(self.properties):\n",
    "            nprops=len(range(self.N))\n",
    "            rows = int(nprops/2)+int(nprops%2)\n",
    "            plt.subplot(rows,2,i+1)\n",
    "            for neighbourhood in list(self.neighbourhoods.keys()):\n",
    "                mean = self.cmean[neighbourhood][prop]\n",
    "                var = self.cstdv[neighbourhood][prop]\n",
    "                x= np.linspace(mean-4*var,mean+4*var,200)\n",
    "                xmin,xmax=plt.xlim()\n",
    "                plt.xlim(min(xmin,mean-3*var),max(xmax,mean+3*var))\n",
    "                plt.title(self.properties[i])\n",
    "                \n",
    "                self.prob[neighbourhood][prop] = self._distributionProbFunction(neighbourhood,prop)\n",
    "\n",
    "                plt.plot(x,self.prob[neighbourhood][prop](x), label = neighbourhood)\n",
    "                leg = plt.legend(loc=\"upper left\")\n",
    "                leg.get_frame().set_alpha(0.7)\n",
    "        plt.show()"
   ]
  },
  {
   "cell_type": "markdown",
   "metadata": {},
   "source": [
    "Once completed the implementation of the algorithm we have to generate our model."
   ]
  },
  {
   "cell_type": "code",
   "execution_count": 8,
   "metadata": {
    "scrolled": false
   },
   "outputs": [
    {
     "name": "stdout",
     "output_type": "stream",
     "text": [
      "{'Eixample': 0.303, 'Ciutat Vella': 0.256, 'Horta-Guinardó': 0.026, 'Sants-Montjuïc': 0.122, 'Sant Martí': 0.105, 'Sant Andreu': 0.021, 'Gràcia': 0.084, 'Les Corts': 0.026, 'Nou Barris': 0.009, 'Sarrià-Sant Gervasi': 0.048}\n"
     ]
    }
   ],
   "source": [
    "NBC_model = NaiveBayesOfAppartments(train_set)\n",
    "print(NBC_model.probl)"
   ]
  },
  {
   "cell_type": "markdown",
   "metadata": {},
   "source": [
    "The dictionary outputed above describes us the model that explains our training set and furthermore tells us which is the probability of a flat to be in one or the other neighbourhood group.\n",
    "\n",
    "Now we can use this model to test our testing set.\n",
    "\n",
    "Testing our model will mean using our model to predict the neighbourhood of each appartment in the set. Then we will compare the result with our original set to see if the prediction was correct and to which extent."
   ]
  },
  {
   "cell_type": "code",
   "execution_count": 9,
   "metadata": {},
   "outputs": [],
   "source": [
    "prediction = []\n",
    "for appartment in test_set_without_neighbourhood:\n",
    "    prediction.append(NBC_model.predict(appartment))"
   ]
  },
  {
   "cell_type": "markdown",
   "metadata": {},
   "source": [
    "Now that we have our prediction we will check it against the test_set (with the information about the neighbour group) in order to understand how precise our prediction was."
   ]
  },
  {
   "cell_type": "code",
   "execution_count": 10,
   "metadata": {},
   "outputs": [
    {
     "name": "stdout",
     "output_type": "stream",
     "text": [
      "By comparing my prediction to the original test_set we can see that my model obtains an accuracy of 89.0 %\n"
     ]
    }
   ],
   "source": [
    "pred_right = 0\n",
    "pred_wrong = 0\n",
    "\n",
    "for i,pred in enumerate(prediction):\n",
    "    if pred[0] == test_set[i].getNeighbourhood():\n",
    "        pred_right += 1\n",
    "    else:\n",
    "        pred_wrong += 1\n",
    "\n",
    "accuracy = (pred_right/(pred_right+pred_wrong))*100\n",
    "print(\"By comparing my prediction to the original test_set we can see that my model obtains an accuracy of\",accuracy,\"%\")"
   ]
  },
  {
   "cell_type": "markdown",
   "metadata": {},
   "source": [
    "#### 2nd Assignment statement"
   ]
  },
  {
   "cell_type": "markdown",
   "metadata": {},
   "source": [
    "We want to clusterize the apartments according to their prize and room type (1: shared room, 2: private room, 3: hotel room, 4: entire apartment). Plotting different amount of clusters according to this and other features (neighbourhood, availability, minimum nights).\n",
    "\n",
    "Can we draw any conclusions?"
   ]
  },
  {
   "cell_type": "code",
   "execution_count": 11,
   "metadata": {},
   "outputs": [],
   "source": [
    "import math"
   ]
  },
  {
   "cell_type": "markdown",
   "metadata": {},
   "source": [
    "We already imported the data we need but now the assignment to tackle is about clusterization rather then classification.\n",
    "For this reason we will implement a k-means algorithm.\n",
    "\n",
    "K-means is an algorithm that allow us to clusterize our data according to the variables of the data set we are analysing. For this purpose the approach requires the definition of distances between the elements of our data set. This distances will be calculated by means of the eucledian theorem.\n",
    "\n",
    "We therefore have to implement a function that allow us to compute this distances."
   ]
  },
  {
   "cell_type": "code",
   "execution_count": 96,
   "metadata": {},
   "outputs": [],
   "source": [
    "def vector_euclidian_distance(feat_one, feat_two):\n",
    "    squared_distance = 0\n",
    "    #Assuming correct input to the function where the lengths of two features are the same\n",
    "    for i in range(len(feat_two)-1):\n",
    "            squared_distance += (feat_one[i] - feat_two[i])**2\n",
    "    ed = math.sqrt(squared_distance)\n",
    "    return ed"
   ]
  },
  {
   "cell_type": "markdown",
   "metadata": {},
   "source": [
    "Now that we defined the type of distance we will be using in the algorithm let's go over implementing a class for it."
   ]
  },
  {
   "cell_type": "code",
   "execution_count": 77,
   "metadata": {},
   "outputs": [],
   "source": [
    "class K_Means:\n",
    "\n",
    "    def __init__(self, k =3, tolerance = 0.0001, max_iterations = 300):\n",
    "        self.k = k\n",
    "        self.tolerance = tolerance\n",
    "        self.max_iterations = max_iterations\n",
    "    \n",
    "\n",
    "    def fit(self, data):\n",
    "        #initialize the centroids, the first 'k' elements in the dataset will be our initial centroids\n",
    "        self.centroids = [None for _ in range(self.k)]\n",
    "        #self.centroids = [i[0:2] for i in data[0:self.k]]\n",
    "        for i in range(self.k):\n",
    "            #self.centroids[i] = data[i]\n",
    "            self.centroids[i] = data[i]\n",
    "\n",
    "        for i in range(self.max_iterations):\n",
    "            self.classes = {c:[] for c in range(self.k)}\n",
    "            for i in range(self.k):\n",
    "                self.classes[i] = []\n",
    "\n",
    "                #find the distance between the point and cluster; choose the nearest centroid\n",
    "                for features in data:\n",
    "                    distances = [vector_euclidian_distance(features, self.centroids[centroid]) for centroid in range(len(self.centroids))]\n",
    "                    classification = distances.index(min(distances))\n",
    "                    self.classes[classification].append(features)\n",
    "            \n",
    "            #previous = dict(self.centroids)\n",
    "            \n",
    "            #average the cluster datapoints to re-calculate the centroids\n",
    "            for classification in self.classes:\n",
    "                self.centroids[classification] = np.average(self.classes[classification], axis = 0)\n",
    "            "
   ]
  },
  {
   "cell_type": "markdown",
   "metadata": {},
   "source": [
    "Now that we implemented the k means class we have to prepare the data we want to feed to the algorithm. Once we did that we can cluster our data by means of the k-means algorithm."
   ]
  },
  {
   "cell_type": "code",
   "execution_count": 78,
   "metadata": {
    "scrolled": true
   },
   "outputs": [],
   "source": [
    "clustering_set = appartments.sample(frac=0.1, replace=True)\n",
    "X = clustering_set[\"longitude\"]\n",
    "Y = clustering_set[\"latitude\"]"
   ]
  },
  {
   "cell_type": "markdown",
   "metadata": {},
   "source": [
    "Once the algorithm has finished processing the data we can finally plot them. We will do it differentiating the elements in turn by price, room type, neighbourhood, availability and minimum nights.\n",
    "\n",
    "**Clusterization by Prize**\n",
    "\n",
    "Let's first of all define a scale for the prices. We know that the maximum and the minimum prices are respectively:"
   ]
  },
  {
   "cell_type": "code",
   "execution_count": 80,
   "metadata": {},
   "outputs": [
    {
     "name": "stdout",
     "output_type": "stream",
     "text": [
      "15000 and 0\n"
     ]
    }
   ],
   "source": [
    "price = appartments[\"price\"]\n",
    "maxP = max(price)\n",
    "print(maxP, \"and\", min(price))"
   ]
  },
  {
   "cell_type": "markdown",
   "metadata": {},
   "source": [
    "This will be the extremes of our color scale. Let us then define different price levels that will in turn correspond to a different color. We will define 5 levels that represent spans from very low to very high for which we will clusterize the appartments."
   ]
  },
  {
   "cell_type": "code",
   "execution_count": 98,
   "metadata": {},
   "outputs": [
    {
     "name": "stdout",
     "output_type": "stream",
     "text": [
      "K-mean algorithm ran correctly\n"
     ]
    }
   ],
   "source": [
    "P = clustering_set[\"price\"]\n",
    "new_P = []\n",
    "\n",
    "for i in P:\n",
    "    if i <= 50:\n",
    "        new_P.append(1)\n",
    "    if i > 50 and i <= 300:\n",
    "        new_P.append(2)\n",
    "    if i > 300 and i <= 1000:\n",
    "        new_P.append(3)\n",
    "    if i > 1000 and i <= 2500:\n",
    "        new_P.append(4)\n",
    "    if i > 2500 and i < maxP:\n",
    "        new_P.append(5)\n",
    "\n",
    "Z = list(zip(X,Y,new_P))\n",
    "km = K_Means(5)\n",
    "km.fit(Z)\n",
    "print(\"K-mean algorithm ran correctly\")"
   ]
  },
  {
   "cell_type": "code",
   "execution_count": 101,
   "metadata": {},
   "outputs": [
    {
     "name": "stdout",
     "output_type": "stream",
     "text": [
      "Centroid: [ 2.17895686 41.38669258]\n",
      "Centroid: [ 2.16171424 41.38127715]\n",
      "Centroid: [ 2.19642783 41.41273327]\n",
      "Centroid: [ 2.13740114 41.3806372 ]\n",
      "Centroid: [ 2.16280476 41.40656177]\n"
     ]
    },
    {
     "data": {
      "image/png": "[encoded data removed]",
      "text/plain": [
       "<Figure size 432x288 with 1 Axes>"
      ]
     },
     "metadata": {
      "needs_background": "light"
     },
     "output_type": "display_data"
    }
   ],
   "source": [
    "colors = {\n",
    "    1:\"b\",\n",
    "    2:\"g\",\n",
    "    3:\"y\",\n",
    "    4:\"r\",\n",
    "    5:\"c\",\n",
    "    6:\"k\",\n",
    "    7:\"m\",\n",
    "    8:[106/255, 90/255, 205/255],\n",
    "    9:[151/255, 255/255, 0],\n",
    "    10:[151/255, 122/255, 0]\n",
    "} \n",
    "\n",
    "for centroid in km.centroids:\n",
    "    print (\"Centroid:\", centroid[0:2])\n",
    "\n",
    "for c,classification in enumerate(km.classes):\n",
    "    for p,features in enumerate(km.classes[classification]):\n",
    "        plt.scatter(features[0], features[1], color = colors[features[2]],s = 5)"
   ]
  },
  {
   "cell_type": "markdown",
   "metadata": {},
   "source": [
    "**Clusterization by room type**\n",
    "\n",
    "We know that we have four room types (1: shared room, 2: private room, 3: hotel room, 4: entire apartment) and in order to use them to clusterize our data we will first have to map those types to numeric values. After having mapped the room types we can go on to run the K-means algorithm and plot the results."
   ]
  },
  {
   "cell_type": "code",
   "execution_count": 102,
   "metadata": {},
   "outputs": [
    {
     "name": "stdout",
     "output_type": "stream",
     "text": [
      "K-mean algorithm ran correctly\n"
     ]
    }
   ],
   "source": [
    "rooms = clustering_set[\"room_type\"]\n",
    "mapped_rooms = []\n",
    "\n",
    "for room in rooms:\n",
    "    if room == \"Shared room\":\n",
    "        mapped_rooms.append(1)\n",
    "    if room == \"Private room\":\n",
    "        mapped_rooms.append(2)\n",
    "    if room == \"Hotel room\":\n",
    "        mapped_rooms.append(3)\n",
    "    if room == \"Entire home/apt\":\n",
    "        mapped_rooms.append(4)\n",
    "        \n",
    "Z = list(zip(X,Y,mapped_rooms))\n",
    "km = K_Means(4)\n",
    "km.fit(Z)\n",
    "print(\"K-mean algorithm ran correctly\") "
   ]
  },
  {
   "cell_type": "code",
   "execution_count": 103,
   "metadata": {},
   "outputs": [
    {
     "name": "stdout",
     "output_type": "stream",
     "text": [
      "Centroid: [ 2.16300001 41.40571411]\n",
      "Centroid: [ 2.17188172 41.38284053]\n",
      "Centroid: [ 2.19427304 41.40951676]\n",
      "Centroid: [ 2.14396154 41.38139271]\n"
     ]
    },
    {
     "data": {
      "image/png": "[encoded data removed]",
      "text/plain": [
       "<Figure size 432x288 with 1 Axes>"
      ]
     },
     "metadata": {
      "needs_background": "light"
     },
     "output_type": "display_data"
    }
   ],
   "source": [
    "for centroid in km.centroids:\n",
    "    print (\"Centroid:\", centroid[0:2])\n",
    "\n",
    "for c,classification in enumerate(km.classes):\n",
    "    for p,features in enumerate(km.classes[classification]):\n",
    "        plt.scatter(features[0], features[1], color = colors[features[2]],s = 5)"
   ]
  },
  {
   "cell_type": "markdown",
   "metadata": {},
   "source": [
    "By comparing the plot for the price and this last one we can already see that the central part of Barcelona is where we have the most biggest appartments. By comparing the two previous plots we actually see that size does not directly imply that the appartment is going to be expansive. This can be for the most cases be considered a general rule but we have evidence of some appartments that are expensive although being just a private room. That could be do to the neighbourhood in which that particular room. By further analysing the different varaibles of the data set we will probabliy uncover more underlyng patterns that could maybe explain this initial guess."
   ]
  },
  {
   "cell_type": "markdown",
   "metadata": {},
   "source": [
    "**Clusterization by neighbourhood group**\n",
    "\n",
    "We know that our data set contains appartments located in eleven different neighbourhood groups. Those are:"
   ]
  },
  {
   "cell_type": "code",
   "execution_count": 104,
   "metadata": {},
   "outputs": [
    {
     "name": "stdout",
     "output_type": "stream",
     "text": [
      "{'Eixample', 'Sants-Montjuïc', 'Sarrià-Sant Gervasi', 'Gràcia', 'Sant Martí', 'Horta-Guinardó', 'Nou Barris', 'Les Corts', 'Ciutat Vella', 'Sant Andreu'}\n"
     ]
    }
   ],
   "source": [
    "neighbourhoods = set(appartments[\"neighbourhood_group\"])\n",
    "print(neighbourhoods)"
   ]
  },
  {
   "cell_type": "markdown",
   "metadata": {},
   "source": [
    "We now want to clusterize our data in the different neighbourhoods."
   ]
  },
  {
   "cell_type": "code",
   "execution_count": 105,
   "metadata": {},
   "outputs": [
    {
     "name": "stdout",
     "output_type": "stream",
     "text": [
      "K-mean algorithm ran correctly\n"
     ]
    }
   ],
   "source": [
    "neighs = clustering_set[\"neighbourhood_group\"]\n",
    "N = []\n",
    "\n",
    "for neigh in neighs:\n",
    "    if neigh == \"Eixample\":\n",
    "        N.append(1)\n",
    "    if neigh == \"Sants-Montjuïc\":\n",
    "        N.append(2)\n",
    "    if neigh == \"Sarrià-Sant Gervasi\":\n",
    "        N.append(3)\n",
    "    if neigh == \"Gràcia\":\n",
    "        N.append(4)\n",
    "    if neigh == \"Sant Martí\":\n",
    "        N.append(5)\n",
    "    if neigh == \"Horta-Guinardó\":\n",
    "        N.append(6)\n",
    "    if neigh == \"Nou Barris\":\n",
    "        N.append(7)\n",
    "    if neigh == \"Les Corts\":\n",
    "        N.append(8)\n",
    "    if neigh == \"Ciutat Vella\":\n",
    "        N.append(9)\n",
    "    if neigh == \"Sant Andreu\":\n",
    "        N.append(10)\n",
    "\n",
    "Z = list(zip(X,Y,N))\n",
    "km = K_Means(4)\n",
    "km.fit(Z)\n",
    "print(\"K-mean algorithm ran correctly\") "
   ]
  },
  {
   "cell_type": "code",
   "execution_count": 106,
   "metadata": {},
   "outputs": [
    {
     "name": "stdout",
     "output_type": "stream",
     "text": [
      "Centroid: [ 2.16300001 41.40571411]\n",
      "Centroid: [ 2.17188172 41.38284053]\n",
      "Centroid: [ 2.19427304 41.40951676]\n",
      "Centroid: [ 2.14396154 41.38139271]\n"
     ]
    },
    {
     "data": {
      "image/png": "[encoded data removed]",
      "text/plain": [
       "<Figure size 432x288 with 1 Axes>"
      ]
     },
     "metadata": {
      "needs_background": "light"
     },
     "output_type": "display_data"
    }
   ],
   "source": [
    "for centroid in km.centroids:\n",
    "    print (\"Centroid:\", centroid[0:2])\n",
    "\n",
    "for c,classification in enumerate(km.classes):\n",
    "    for p,features in enumerate(km.classes[classification]):\n",
    "        plt.scatter(features[0], features[1], color = colors[features[2]],s = 5)"
   ]
  },
  {
   "cell_type": "markdown",
   "metadata": {},
   "source": [
    "By comparing the three plots we can se that the most expensive appartments are towards the outskirts of Barcelona which means around the neighbourhoods of Sant Martì, Gracia and Nou Barris."
   ]
  },
  {
   "cell_type": "markdown",
   "metadata": {},
   "source": [
    "**Clusterization by availability**\n",
    "\n",
    "At the moment in which we downloaded the data some of the appartments where avalible and some not. We want to clusterize the data accordingly to this variable. The varaible tells us how many days a certain appartment is available for this year. In order to clusterize the data we will consider four different ranges of ammounts of avvailable days (up to 1 month, from 1 to 3 moths, from 3 to 6 months, more then 6 moths) "
   ]
  },
  {
   "cell_type": "code",
   "execution_count": 108,
   "metadata": {},
   "outputs": [
    {
     "name": "stdout",
     "output_type": "stream",
     "text": [
      "K-mean algorithm ran correctly\n"
     ]
    }
   ],
   "source": [
    "availability = clustering_set[\"availability_365\"]\n",
    "A = []\n",
    "\n",
    "for av in availability:\n",
    "    if av <= 31:\n",
    "        A.append(1)\n",
    "    if av > 31 and av <= 66:\n",
    "        A.append(2)\n",
    "    if av > 66 and av <= 186:\n",
    "        A.append(3)\n",
    "    if av > 186:\n",
    "        A.append(4)\n",
    "\n",
    "Z = list(zip(X,Y,A))\n",
    "km = K_Means(4)\n",
    "km.fit(Z)\n",
    "print(\"K-mean algorithm ran correctly\")"
   ]
  },
  {
   "cell_type": "code",
   "execution_count": 109,
   "metadata": {},
   "outputs": [
    {
     "name": "stdout",
     "output_type": "stream",
     "text": [
      "Centroid: [ 2.16300001 41.40571411]\n",
      "Centroid: [ 2.17188172 41.38284053]\n",
      "Centroid: [ 2.19427304 41.40951676]\n",
      "Centroid: [ 2.14396154 41.38139271]\n"
     ]
    },
    {
     "data": {
      "image/png": "[encoded data removed]",
      "text/plain": [
       "<Figure size 432x288 with 1 Axes>"
      ]
     },
     "metadata": {
      "needs_background": "light"
     },
     "output_type": "display_data"
    }
   ],
   "source": [
    "for centroid in km.centroids:\n",
    "    print (\"Centroid:\", centroid[0:2])\n",
    "\n",
    "for c,classification in enumerate(km.classes):\n",
    "    for p,features in enumerate(km.classes[classification]):\n",
    "        plt.scatter(features[0], features[1], color = colors[features[2]],s = 5)"
   ]
  },
  {
   "cell_type": "markdown",
   "metadata": {},
   "source": [
    "By looking at this last graph we see a higher concentration of red dots. This means that generally people would try to rent houses for a shorter amount of time, therefore leaving a higher amount of avvailable days. That makes sense if we think that AirBnb is a platform for short-term hause renting."
   ]
  },
  {
   "cell_type": "markdown",
   "metadata": {},
   "source": [
    "**Clusterization by minimum nights**\n",
    "\n",
    "At the moment in which we downloaded the data we also have some information about the duration of a minimum stay in all the appartments. We want now to cluster our data basing our selves on this variable.\n",
    "By inspecting the data set we see that this particular variable is continuous. Therefore, in order to propperly clusterize the data I will firs inspecct the variable. In particular I want to know which are the minimum and maximum values for the variable. "
   ]
  },
  {
   "cell_type": "code",
   "execution_count": 112,
   "metadata": {},
   "outputs": [
    {
     "name": "stdout",
     "output_type": "stream",
     "text": [
      "the variable has values that range from 1 to 365\n"
     ]
    }
   ],
   "source": [
    "nights = clustering_set[\"minimum_nights\"]\n",
    "print(\"the variable has values that range from\", min(nights), \"to\", max(nights))"
   ]
  },
  {
   "cell_type": "markdown",
   "metadata": {},
   "source": [
    "Taking this in consideration we will define a 4 ranks for the varaibles, exactly as we did for the availability varaible."
   ]
  },
  {
   "cell_type": "code",
   "execution_count": 117,
   "metadata": {},
   "outputs": [
    {
     "name": "stdout",
     "output_type": "stream",
     "text": [
      "K-mean algorithm ran correctly\n"
     ]
    }
   ],
   "source": [
    "nig = []\n",
    "\n",
    "for n in nights:\n",
    "    if n <= 31:\n",
    "        nig.append(1)\n",
    "    if n > 31 and av <= 66:\n",
    "        nig.append(2)\n",
    "    if n > 66 and av <= 186:\n",
    "        nig.append(3)\n",
    "    if n > 186:\n",
    "        nig.append(4)\n",
    "\n",
    "Z = list(zip(X,Y,nig))\n",
    "km = K_Means(4)\n",
    "km.fit(Z)\n",
    "print(\"K-mean algorithm ran correctly\")"
   ]
  },
  {
   "cell_type": "code",
   "execution_count": 118,
   "metadata": {},
   "outputs": [
    {
     "name": "stdout",
     "output_type": "stream",
     "text": [
      "Centroid: [ 2.16468541 41.40650835]\n",
      "Centroid: [ 2.17200535 41.38295836]\n",
      "Centroid: [ 2.19691461 41.40958029]\n",
      "Centroid: [ 2.14445391 41.38193834]\n"
     ]
    },
    {
     "data": {
      "image/png": "[encoded data removed]",
      "text/plain": [
       "<Figure size 432x288 with 1 Axes>"
      ]
     },
     "metadata": {
      "needs_background": "light"
     },
     "output_type": "display_data"
    }
   ],
   "source": [
    "for centroid in km.centroids:\n",
    "    print (\"Centroid:\", centroid[0:2])\n",
    "\n",
    "for c,classification in enumerate(km.classes):\n",
    "    for p,features in enumerate(km.classes[classification]):\n",
    "        plt.scatter(features[0], features[1], color = colors[features[2]],s = 5)"
   ]
  },
  {
   "cell_type": "markdown",
   "metadata": {},
   "source": [
    "Last but not least we consider this last graph. By looking at it is immediately clear that the most of the appartments or almost all of them are being rented for not more than a month which again makes sense considering the purpose of the service that AirBnb provides."
   ]
  },
  {
   "cell_type": "markdown",
   "metadata": {},
   "source": [
    "Finally, by collecting all this information we can conclude that not surprisingly a pricier house is harder to rent for a longer amount of time and that it will likely be placed in the outskirts of Barcelona.\n",
    "Moreover we can spot a tendency to rent full appartments/houses.\n",
    "In general, very few houses are unavailable for more then one month."
   ]
  },
  {
   "cell_type": "code",
   "execution_count": null,
   "metadata": {},
   "outputs": [],
   "source": []
  }
 ],
 "metadata": {
  "kernelspec": {
   "display_name": "Python 3",
   "language": "python",
   "name": "python3"
  },
  "language_info": {
   "codemirror_mode": {
    "name": "ipython",
    "version": 3
   },
   "file_extension": ".py",
   "mimetype": "text/x-python",
   "name": "python",
   "nbconvert_exporter": "python",
   "pygments_lexer": "ipython3",
   "version": "3.7.4"
  }
 },
 "nbformat": 4,
 "nbformat_minor": 2
}
