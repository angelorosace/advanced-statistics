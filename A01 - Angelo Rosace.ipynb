{
 "cells": [
  {
   "cell_type": "markdown",
   "metadata": {},
   "source": [
    "Advanced Statistics: Assignment 1\n",
    " \n",
    "Angelo Rosace\n",
    "\n",
    "General info: some print statements have been comented out but were left on purpose in order for the professor to test each single result of each single function by simply decommenting the statement and run the code"
   ]
  },
  {
   "cell_type": "code",
   "execution_count": 1,
   "metadata": {},
   "outputs": [],
   "source": [
    "import random\n",
    "import seaborn as sns"
   ]
  },
  {
   "cell_type": "markdown",
   "metadata": {},
   "source": [
    "1. Write a function that list all the possible outcomes with five dice."
   ]
  },
  {
   "cell_type": "code",
   "execution_count": 27,
   "metadata": {},
   "outputs": [
    {
     "name": "stdout",
     "output_type": "stream",
     "text": [
      "All possible outcomes length: 252\n",
      "(1, 1, 1, 2, 3)\n",
      "(3, 5, 6, 6, 6)\n",
      "(5, 5, 5, 5, 6)\n",
      "(1, 1, 2, 2, 3)\n",
      "(1, 2, 4, 6, 6)\n",
      "(3, 3, 3, 6, 6)\n",
      "(3, 4, 4, 6, 6)\n",
      "(2, 2, 2, 2, 2)\n",
      "(3, 3, 3, 3, 3)\n",
      "(2, 3, 5, 6, 6)\n",
      "(5, 5, 5, 6, 6)\n",
      "(2, 3, 3, 3, 5)\n",
      "(2, 3, 5, 5, 5)\n",
      "(2, 2, 3, 5, 6)\n",
      "(1, 5, 5, 6, 6)\n",
      "(4, 5, 5, 5, 5)\n",
      "(1, 2, 2, 2, 6)\n",
      "(1, 2, 4, 4, 6)\n",
      "(1, 2, 6, 6, 6)\n",
      "(1, 1, 3, 5, 6)\n",
      "(2, 3, 3, 4, 5)\n",
      "(3, 4, 4, 4, 6)\n",
      "(1, 3, 4, 5, 6)\n",
      "(3, 4, 6, 6, 6)\n",
      "(2, 2, 3, 3, 6)\n",
      "(2, 2, 5, 5, 6)\n",
      "(2, 5, 5, 6, 6)\n",
      "(1, 2, 2, 3, 3)\n",
      "(2, 2, 2, 4, 5)\n",
      "(1, 2, 2, 4, 4)\n",
      "(1, 1, 1, 5, 6)\n",
      "(2, 2, 2, 3, 5)\n",
      "(2, 2, 4, 5, 5)\n",
      "(1, 2, 5, 6, 6)\n",
      "(1, 2, 3, 3, 3)\n",
      "(2, 2, 3, 4, 4)\n",
      "(4, 4, 4, 5, 5)\n",
      "(1, 1, 2, 2, 2)\n",
      "(2, 3, 4, 5, 5)\n",
      "(1, 3, 3, 4, 4)\n",
      "(1, 1, 1, 3, 6)\n",
      "(2, 3, 3, 3, 6)\n",
      "(2, 3, 5, 5, 6)\n",
      "(3, 3, 4, 6, 6)\n",
      "(1, 3, 3, 3, 6)\n",
      "(1, 3, 5, 5, 6)\n",
      "(3, 3, 4, 5, 5)\n",
      "(1, 4, 4, 5, 6)\n",
      "(4, 5, 5, 5, 6)\n",
      "(1, 1, 3, 5, 5)\n",
      "(1, 5, 6, 6, 6)\n",
      "(1, 1, 1, 4, 4)\n",
      "(2, 3, 3, 4, 4)\n",
      "(1, 1, 5, 5, 6)\n",
      "(1, 1, 3, 3, 6)\n",
      "(1, 1, 1, 1, 6)\n",
      "(1, 1, 1, 1, 1)\n",
      "(1, 4, 5, 5, 5)\n",
      "(1, 2, 3, 4, 6)\n",
      "(2, 2, 3, 3, 5)\n",
      "(2, 2, 5, 5, 5)\n",
      "(3, 3, 4, 4, 6)\n",
      "(3, 3, 6, 6, 6)\n",
      "(2, 2, 5, 6, 6)\n",
      "(3, 3, 3, 4, 4)\n",
      "(1, 2, 2, 3, 5)\n",
      "(1, 2, 4, 5, 5)\n",
      "(2, 2, 2, 4, 4)\n",
      "(1, 2, 2, 4, 5)\n",
      "(4, 4, 5, 6, 6)\n",
      "(1, 1, 1, 2, 6)\n",
      "(1, 1, 5, 6, 6)\n",
      "(1, 2, 3, 3, 4)\n",
      "(2, 2, 3, 4, 5)\n",
      "(1, 2, 3, 6, 6)\n",
      "(1, 5, 5, 5, 5)\n",
      "(1, 1, 2, 2, 5)\n",
      "(1, 1, 4, 4, 5)\n",
      "(1, 4, 4, 4, 6)\n",
      "(1, 3, 3, 4, 5)\n",
      "(1, 4, 6, 6, 6)\n",
      "(4, 4, 5, 5, 5)\n",
      "(2, 3, 3, 5, 6)\n",
      "(3, 3, 3, 3, 5)\n",
      "(1, 1, 1, 3, 5)\n",
      "(3, 3, 5, 5, 5)\n",
      "(1, 2, 3, 5, 6)\n",
      "(4, 4, 4, 4, 6)\n",
      "(1, 3, 3, 3, 5)\n",
      "(1, 3, 5, 5, 5)\n",
      "(3, 3, 4, 5, 6)\n",
      "(4, 4, 6, 6, 6)\n",
      "(1, 4, 4, 5, 5)\n",
      "(1, 3, 3, 5, 6)\n",
      "(2, 4, 5, 5, 6)\n",
      "(1, 4, 4, 6, 6)\n",
      "(1, 1, 1, 4, 5)\n",
      "(4, 6, 6, 6, 6)\n",
      "(2, 2, 3, 6, 6)\n",
      "(1, 2, 3, 4, 5)\n",
      "(1, 1, 2, 5, 5)\n",
      "(2, 2, 3, 3, 3)\n",
      "(2, 2, 3, 3, 4)\n",
      "(4, 4, 4, 6, 6)\n",
      "(3, 3, 3, 4, 5)\n",
      "(1, 3, 3, 6, 6)\n",
      "(1, 2, 2, 3, 4)\n",
      "(2, 3, 4, 4, 4)\n",
      "(2, 4, 5, 6, 6)\n",
      "(2, 2, 2, 3, 3)\n",
      "(2, 4, 4, 4, 5)\n",
      "(1, 2, 3, 3, 5)\n",
      "(1, 2, 5, 5, 5)\n",
      "(2, 2, 3, 4, 6)\n",
      "(3, 4, 5, 6, 6)\n",
      "(3, 4, 5, 5, 5)\n",
      "(2, 5, 5, 5, 6)\n",
      "(1, 1, 2, 2, 4)\n",
      "(1, 1, 4, 4, 4)\n",
      "(1, 3, 3, 4, 6)\n",
      "(1, 1, 1, 6, 6)\n",
      "(1, 1, 3, 4, 6)\n",
      "(3, 3, 3, 3, 4)\n",
      "(1, 1, 1, 3, 4)\n",
      "(1, 1, 1, 3, 3)\n",
      "(4, 4, 4, 4, 5)\n",
      "(1, 3, 3, 3, 4)\n",
      "(3, 5, 5, 5, 6)\n",
      "(5, 5, 6, 6, 6)\n",
      "(2, 2, 2, 6, 6)\n",
      "(1, 2, 2, 2, 2)\n",
      "(1, 1, 1, 4, 6)\n",
      "(1, 1, 3, 6, 6)\n",
      "(1, 3, 4, 5, 5)\n",
      "(1, 1, 1, 1, 3)\n",
      "(1, 1, 3, 3, 3)\n",
      "(1, 2, 3, 4, 4)\n",
      "(1, 1, 2, 3, 3)\n",
      "(1, 1, 2, 3, 4)\n",
      "(2, 3, 4, 4, 5)\n",
      "(2, 2, 2, 4, 6)\n",
      "(3, 4, 4, 5, 5)\n",
      "(1, 1, 1, 2, 4)\n",
      "(1, 6, 6, 6, 6)\n",
      "(5, 5, 5, 5, 5)\n",
      "(2, 4, 4, 4, 4)\n",
      "(1, 2, 3, 3, 6)\n",
      "(1, 2, 5, 5, 6)\n",
      "(1, 1, 2, 4, 6)\n",
      "(3, 4, 5, 5, 6)\n",
      "(2, 3, 4, 5, 6)\n",
      "(3, 3, 3, 5, 6)\n",
      "(1, 4, 4, 4, 4)\n",
      "(2, 2, 2, 2, 6)\n",
      "(2, 2, 4, 4, 6)\n",
      "(2, 2, 6, 6, 6)\n",
      "(2, 3, 3, 6, 6)\n",
      "(2, 2, 3, 5, 5)\n",
      "(1, 1, 2, 6, 6)\n",
      "(1, 3, 3, 3, 3)\n",
      "(4, 4, 4, 4, 4)\n",
      "(1, 3, 5, 6, 6)\n",
      "(3, 5, 5, 5, 5)\n",
      "(2, 3, 4, 6, 6)\n",
      "(6, 6, 6, 6, 6)\n",
      "(3, 5, 5, 6, 6)\n",
      "(1, 2, 2, 2, 3)\n",
      "(2, 2, 4, 6, 6)\n",
      "(1, 1, 1, 1, 2)\n",
      "(1, 1, 4, 6, 6)\n",
      "(1, 1, 2, 3, 5)\n",
      "(1, 1, 4, 5, 5)\n",
      "(1, 2, 2, 3, 6)\n",
      "(1, 2, 4, 5, 6)\n",
      "(2, 3, 4, 4, 6)\n",
      "(2, 3, 6, 6, 6)\n",
      "(1, 1, 1, 5, 5)\n",
      "(1, 3, 4, 4, 6)\n",
      "(1, 3, 6, 6, 6)\n",
      "(1, 1, 1, 2, 5)\n",
      "(2, 2, 2, 3, 6)\n",
      "(2, 2, 4, 5, 6)\n",
      "(4, 5, 6, 6, 6)\n",
      "(1, 1, 2, 4, 5)\n",
      "(1, 5, 5, 5, 6)\n",
      "(4, 4, 4, 5, 6)\n",
      "(1, 1, 4, 4, 6)\n",
      "(1, 1, 6, 6, 6)\n",
      "(1, 1, 2, 2, 6)\n",
      "(3, 3, 3, 5, 5)\n",
      "(1, 4, 4, 4, 5)\n",
      "(1, 2, 2, 5, 6)\n",
      "(1, 1, 3, 4, 4)\n",
      "(2, 2, 2, 2, 5)\n",
      "(2, 2, 4, 4, 5)\n",
      "(2, 3, 3, 5, 5)\n",
      "(3, 3, 3, 3, 6)\n",
      "(1, 3, 4, 6, 6)\n",
      "(3, 3, 5, 5, 6)\n",
      "(1, 4, 5, 6, 6)\n",
      "(1, 2, 3, 5, 5)\n",
      "(4, 5, 5, 6, 6)\n",
      "(1, 2, 2, 2, 4)\n",
      "(1, 2, 4, 4, 4)\n",
      "(2, 2, 2, 5, 5)\n",
      "(3, 3, 5, 6, 6)\n",
      "(3, 4, 4, 4, 4)\n",
      "(1, 1, 1, 1, 5)\n",
      "(1, 1, 3, 3, 5)\n",
      "(1, 1, 5, 5, 5)\n",
      "(2, 4, 4, 6, 6)\n",
      "(1, 4, 5, 5, 6)\n",
      "(2, 4, 4, 5, 5)\n",
      "(3, 3, 4, 4, 5)\n",
      "(3, 6, 6, 6, 6)\n",
      "(2, 6, 6, 6, 6)\n",
      "(1, 1, 2, 3, 6)\n",
      "(1, 1, 4, 5, 6)\n",
      "(5, 6, 6, 6, 6)\n",
      "(1, 2, 2, 4, 6)\n",
      "(4, 4, 5, 5, 6)\n",
      "(1, 3, 4, 4, 5)\n",
      "(1, 1, 1, 2, 2)\n",
      "(2, 4, 4, 4, 6)\n",
      "(2, 4, 6, 6, 6)\n",
      "(1, 1, 2, 4, 4)\n",
      "(2, 5, 5, 5, 5)\n",
      "(1, 2, 2, 5, 5)\n",
      "(1, 1, 3, 4, 5)\n",
      "(2, 2, 2, 2, 3)\n",
      "(2, 2, 2, 2, 4)\n",
      "(1, 2, 2, 6, 6)\n",
      "(2, 2, 4, 4, 4)\n",
      "(2, 3, 3, 3, 3)\n",
      "(2, 3, 3, 3, 4)\n",
      "(1, 3, 3, 5, 5)\n",
      "(1, 2, 2, 2, 5)\n",
      "(1, 2, 4, 4, 5)\n",
      "(2, 2, 2, 5, 6)\n",
      "(2, 4, 5, 5, 5)\n",
      "(2, 3, 3, 4, 6)\n",
      "(3, 4, 4, 4, 5)\n",
      "(2, 5, 6, 6, 6)\n",
      "(1, 1, 1, 1, 4)\n",
      "(1, 1, 3, 3, 4)\n",
      "(2, 4, 4, 5, 6)\n",
      "(1, 1, 2, 5, 6)\n",
      "(3, 3, 4, 4, 4)\n",
      "(3, 3, 3, 4, 6)\n",
      "(3, 4, 4, 5, 6)\n",
      "(2, 2, 2, 3, 4)\n",
      "(1, 3, 4, 4, 4)\n"
     ]
    }
   ],
   "source": [
    "#The function fills up a list with lists containing all possible results that could be obtained by throwing 5 dice.\n",
    "#In this sense there is room for repetitions of outcomes.\n",
    "def get_outcomes_with_5_dice():\n",
    "    #empty starting list of outcomes\n",
    "    possible_outcomes = [[]]\n",
    "    #for loop iterating through a range of numbers from 0 to n, n being excluded, that is the number of the dice that are rolled.\n",
    "    for flip in range(5):\n",
    "        #a copy list is generated\n",
    "        tmp = possible_outcomes.copy()\n",
    "        #starting list is emptied\n",
    "        possible_outcomes = []\n",
    "        #for loop iterating through the results currently stored in the copy list.\n",
    "        for current_outcome in tmp:\n",
    "            #for each one of the already computed intermidiate outcomes the result of another die is added.\n",
    "            for outcome in range(6):\n",
    "                possible_outcomes.append(current_outcome + [outcome+1])\n",
    "    #the complete list is returned\n",
    "    return list(set(tuple(sorted(sub)) for sub in possible_outcomes))\n",
    "    \n",
    "\n",
    "result = get_outcomes_with_5_dice()\n",
    "print(\"All possible outcomes length:\", len(result))\n",
    "for a in result:\n",
    "    print(a)"
   ]
  },
  {
   "cell_type": "markdown",
   "metadata": {},
   "source": [
    "We know that all the possible combinations of results of throwing 5 dice simultaneously are 6 to the power of 5. \n",
    "This calculation gives 7776 as a result, but this also takes in consideration all duplicate combinations. They have to be considered duplicates because the order of the results of the dice dont metter for the purpose of defining the whol set of results. SInce they are duplicates we want to remove them and that leaves us with a list of possible outcomes without duplicates.\n"
   ]
  },
  {
   "cell_type": "markdown",
   "metadata": {},
   "source": [
    "2. Write a function that takes a number of dices and return all the possible outcomes for that amount of dices.\n",
    " \n",
    "The function implemented is the same as the one of the chunk above with the addition of a paramenter that let us state how many dice are we throwing. I could have just implemented this function also for the question above but I wanted to separate them for the purpose of answering both question as completely as I could.\n",
    " \n",
    "Here are some examples of the result of throwing 3, 4 and 5 dice.\n",
    "For a metter of readability just the length of the generated lists are printed below."
   ]
  },
  {
   "cell_type": "code",
   "execution_count": 28,
   "metadata": {},
   "outputs": [
    {
     "name": "stdout",
     "output_type": "stream",
     "text": [
      "All possible outcomes length for the throw of 3 dice: 56\n"
     ]
    }
   ],
   "source": [
    "#the function takes as an input a number describing the number of the dice we are rolling simultaneously.\n",
    "#It fills up a list with lists containing all possible results that could be obtained by throwing n dice.\n",
    "#In this sense there is room for repetitions of outcomes.\n",
    "#n is the number of dice we are rolling.\n",
    "def get_outcomes(n):\n",
    "    #empty starting list of outcomes\n",
    "    possible_outcomes = [[]]\n",
    "    #for loop iterating through a range of numbers from 0 to n, n being excluded, that is the number of the dice that are rolled.\n",
    "    for flip in range(n):\n",
    "        #a copy list is generated\n",
    "        tmp = possible_outcomes.copy()\n",
    "        #starting list is emptied\n",
    "        possible_outcomes = []\n",
    "        #for loop iterating through the results currently stored in the copy list.\n",
    "        for current_outcome in tmp:\n",
    "            #for each one of the already computed intermidiate outcomes the result of another die is added.\n",
    "            for outcome in range(6):\n",
    "                possible_outcomes.append(current_outcome + [outcome+1])\n",
    "    #the complete list is returned\n",
    "    return list(set(tuple(sorted(sub)) for sub in possible_outcomes))\n",
    "    \n",
    "print(\"All possible outcomes length for the throw of 3 dice:\", len(get_outcomes(3)))\n",
    "#print(\"All possible outcomes length for the throw of 4 dice:\", len(get_outcomes(4)))\n",
    "#print(\"All possible outcomes length for the throw of 5 dice:\", len(get_outcomes(5)))"
   ]
  },
  {
   "cell_type": "markdown",
   "metadata": {},
   "source": [
    "3. Write functions that return, given five dice, True or False if we have Straight, Full,Poker or Generala."
   ]
  },
  {
   "cell_type": "code",
   "execution_count": 20,
   "metadata": {},
   "outputs": [],
   "source": [
    "#check_equal is an auxiliary function that given a list as parameter returns true if all the elements in the lis are equal and\n",
    "#false otherwise\n",
    "def check_equal(lst):\n",
    "    return lst[1:] == lst[:-1]\n",
    "\n",
    "#is_straight is a function that given a list containing the result of the throw of 5 dice returns whether the list contains a straight or not\n",
    "def is_straight(result):\n",
    "    for i in result:\n",
    "        if result.count(i) > 1:\n",
    "            #print(result,\"is not a straight\")\n",
    "            return 0\n",
    "    #print(result, \"is a straight\")\n",
    "    return 1\n",
    "\n",
    "\n",
    "#is_straight([1,2,3,4,5])\n",
    "#is_straight([1,1,3,4,5])\n",
    "#is_straight([1,2,3,5,5])\n",
    "\n",
    "#is_full is a function that given a list containing the result of the throw of 5 dice returns whether the list contains a full or not\n",
    "def is_full(result):\n",
    "    result.sort()\n",
    "    full = 0\n",
    "    if check_equal(result[0:2]):\n",
    "        if check_equal(result[2:5]):\n",
    "            full = 1\n",
    "    if (full == 0) and check_equal(result[0:3]):\n",
    "        if check_equal(result[3:5]):\n",
    "            full = 1\n",
    "    #if full == 1:\n",
    "    #    print(result,\"is a full\")\n",
    "    #else:\n",
    "    #    print(result,\"is not a full\")\n",
    "    return full\n",
    "\n",
    "\n",
    "#is_full([1,3,3,1,3])\n",
    "#is_full([1,3,1,3,1])\n",
    "#is_full([1,1,3,2,4])\n",
    "#is_full([1,1,1,4,5])\n",
    "#is_full([3,4,5,6,1])\n",
    "\n",
    "\n",
    "#is_poker is a function that given a list containing the result of the throw of 5 dice returns whether the list contains a poker or not\n",
    "def is_poker(result):\n",
    "    result.sort()\n",
    "    poker = 0\n",
    "    if check_equal(result[0:4]) or check_equal(result[1:5]):\n",
    "        poker = 1\n",
    "    #    print(result,\"is a poker\")\n",
    "    #else:\n",
    "    #    print(result,\"is not a poker\")\n",
    "    return poker\n",
    "\n",
    "\n",
    "#is_poker([1,1,1,1,3])\n",
    "#is_poker([1,3,3,3,3])\n",
    "#is_poker([2,2,3,3,3])\n",
    "#is_poker([3,4,5,6,2])\n",
    "\n",
    "#is_generala is a function that given a list containing the result of the throw of 5 dice returns whether the list contains a generala or not\n",
    "def is_generala(result):\n",
    "    generala = 0\n",
    "    if check_equal(result):\n",
    "        generala = 1\n",
    "    #    print(result, \"is a generala\")\n",
    "    #else:\n",
    "    #    print(result, \"is not a generala\")\n",
    "    return generala\n",
    "\n",
    "\n",
    "#is_generala([1, 1, 1, 1, 1])\n",
    "#is_generala([1, 1, 1, 1, 4])"
   ]
  },
  {
   "cell_type": "markdown",
   "metadata": {},
   "source": [
    "4. Compute the probabilities that you already computed by hand by counting the outcomes describing each roll result in the list of all possible hands served."
   ]
  },
  {
   "cell_type": "code",
   "execution_count": 30,
   "metadata": {},
   "outputs": [
    {
     "data": {
      "text/plain": [
       "{'generala': 0.023809523809523808,\n",
       " 'full': 0.11904761904761904,\n",
       " 'poker': 0.11904761904761904,\n",
       " 'straight': 0.023809523809523808}"
      ]
     },
     "execution_count": 30,
     "metadata": {},
     "output_type": "execute_result"
    }
   ],
   "source": [
    "#is_served_probability makes use of the functions that generate the results for a throw of 5 dice and that check if a \n",
    "#certain result is one of the four types of hands in order to calculate the probability of getting a served hand out\n",
    "#of all possible results\n",
    "def is_served_probability():\n",
    "    total_outcomes = get_outcomes_with_5_dice()\n",
    "    n_total_outcomes = len(total_outcomes)\n",
    "    n_generala = 0\n",
    "    n_full = 0\n",
    "    n_poker = 0\n",
    "    n_straight = 0\n",
    "    for i in total_outcomes:\n",
    "        i = list(i)\n",
    "        if is_generala(i):\n",
    "            n_generala = n_generala + 1\n",
    "        elif is_full(i):\n",
    "            n_full = n_full + 1\n",
    "        elif is_poker(i):\n",
    "            n_poker = n_poker + 1\n",
    "        elif is_straight(i):\n",
    "            n_straight = n_straight + 1\n",
    "    probabilities = {\n",
    "        \"generala\" : (n_generala/n_total_outcomes),\n",
    "        \"full\" : (n_full/n_total_outcomes),\n",
    "        \"poker\" : (n_poker/n_total_outcomes),\n",
    "        \"straight\" : (n_straight/n_total_outcomes)\n",
    "    }\n",
    "    #print(\"the calculated probabilities for a served hand are:\")\n",
    "    #for key in probabilities:\n",
    "    #    print(key, \" = \", probabilities[key])\n",
    "    return probabilities\n",
    "\n",
    "is_served_probability()"
   ]
  },
  {
   "cell_type": "markdown",
   "metadata": {},
   "source": [
    "5. Compute the probabilities that you already computed by hand by counting the outcomes describing each roll result in the list of all possible hands"
   ]
  },
  {
   "cell_type": "code",
   "execution_count": 6,
   "metadata": {},
   "outputs": [
    {
     "name": "stdout",
     "output_type": "stream",
     "text": [
      "the calculated probabilities for a non served hand are:\n"
     ]
    },
    {
     "data": {
      "text/plain": [
       "{'generala': 0.07142857142857142,\n",
       " 'full': 0.3571428571428571,\n",
       " 'poker': 0.3571428571428571,\n",
       " 'straight': 0.07142857142857142}"
      ]
     },
     "execution_count": 6,
     "metadata": {},
     "output_type": "execute_result"
    }
   ],
   "source": [
    "#is_not_served_probability makes use of the functions that generate the results for a throw of 5 dice and that check if a \n",
    "#certain result is one of the four types of hands in order to calculate the probability of getting a hand out\n",
    "#of all possible results taking in account that a player could get the searched result in any of 3 re-throws.\n",
    "def is_not_served_probability():\n",
    "    probabilities = is_served_probability()\n",
    "    print(\"the calculated probabilities for a non served hand are:\")\n",
    "    for key in probabilities:\n",
    "        probabilities[key] = (probabilities.get(key)*3)\n",
    "    #for key in probabilities:\n",
    "    #    print(key, \" = \", probabilities[key])\n",
    "    return probabilities\n",
    "\n",
    "is_not_served_probability()"
   ]
  },
  {
   "cell_type": "markdown",
   "metadata": {},
   "source": [
    "Both probabilities (for a served and for a non-served hand) seem odd since the probability of getting a full or a poker and the one of getting a generala and a straight are the same. That is due to the fact that we eliminated any duplicate in the list of all the possible outcomes. Duplicates are all those lists of results that once sorted (since the order of the dices is not important) give the same hand.\n",
    "\n",
    "6. Write a function that simulate a roll with n fair dices."
   ]
  },
  {
   "cell_type": "code",
   "execution_count": 7,
   "metadata": {},
   "outputs": [],
   "source": [
    "#this function simulates the roll of n fair dices by using random numbers in a range from one to six as result of a thorw of dice.\n",
    "#the parameter n is the number of dice that are thrown simultaneously\n",
    "def roll(n):\n",
    "    result = []\n",
    "    for i in range(n):\n",
    "        result.append(random.randint(1, 6))\n",
    "    return result"
   ]
  },
  {
   "cell_type": "markdown",
   "metadata": {},
   "source": [
    "7. Write a function that plays automatically, always looking for a Generala with a greedy strategy (always keeping the most dices of the same kind and rolling the others) that returns True if we get a Generala and a False otherwise. Which kind of distribution follow this function results? Explain your reasoning within the delivered python notebook."
   ]
  },
  {
   "cell_type": "code",
   "execution_count": 23,
   "metadata": {},
   "outputs": [
    {
     "data": {
      "text/plain": [
       "<matplotlib.axes._subplots.AxesSubplot at 0x7f9196a71c88>"
      ]
     },
     "execution_count": 23,
     "metadata": {},
     "output_type": "execute_result"
    },
    {
     "data": {
      "image/png": "[encoded data removed]",
      "text/plain": [
       "<Figure size 432x288 with 1 Axes>"
      ]
     },
     "metadata": {
      "needs_background": "light"
     },
     "output_type": "display_data"
    }
   ],
   "source": [
    "#This function, given a list of numbers as a parameter, returns the longest sequence of metching numbers. If more numbers appear \n",
    "#the same ammount of time the first longest sequence is considered\n",
    "def get_longest_matched_sequence(list):\n",
    "    longest_seq = {}\n",
    "    for i in list:\n",
    "        if not i in longest_seq:\n",
    "            longest_seq[i] = 1\n",
    "        else:\n",
    "            longest_seq[i] = longest_seq.get(i) + 1\n",
    "    max_value = max(longest_seq, key=longest_seq.get)\n",
    "    seq = [max_value] * longest_seq[max_value]\n",
    "    return seq\n",
    "\n",
    "#This function uses an auxiliary recurrent function to play generala in the attempt to get one generala hand. It return true if\n",
    "#it does.\n",
    "#n is the number of dice we are rolling\n",
    "#k is the maximum amount of time we can reroll all or some of the dice\n",
    "def get_generala(n,k):\n",
    "    return get_generala_aux([],[],n,k-1,5)\n",
    "\n",
    "def get_generala_aux(result,keep,n,k,expected_len):\n",
    "    if is_generala(result) and len(result) == expected_len:\n",
    "        #print(\"You got a generala!\", result)\n",
    "        return True\n",
    "    else:\n",
    "        if k == 0 and (not is_generala(result)):\n",
    "            #print(\"maximum number of re-rolls reached without a generala\", result)\n",
    "            return False\n",
    "        else:\n",
    "            intermediate_result = roll(n)\n",
    "            for i in intermediate_result:\n",
    "                keep.append(i)\n",
    "            result = keep\n",
    "            keep = get_longest_matched_sequence(keep)\n",
    "            new_n = expected_len - len(keep)\n",
    "            return get_generala_aux(result, keep, new_n, (k-1), expected_len)\n",
    "\n",
    "results = []\n",
    "for i in range(500):\n",
    "    if get_generala(5,3):\n",
    "        results.append(1)\n",
    "    else:\n",
    "        results.append(0)\n",
    "    \n",
    "sns.distplot(results, bins=10, kde=False)"
   ]
  },
  {
   "cell_type": "markdown",
   "metadata": {},
   "source": [
    " The graph above is not very informative but it lets us clearly see that we can just distinghish between two results (true or false) and that we have a higher probability of not getting a generala then getting it. This makes up for a Bernulli Distribution.\n",
    "\n",
    "8. Write a function that plays until it gets a Generala, count how many times it had to play to get it and return this number. Which kind of distribution follow this function results? Explain your reasoning within the delivered python notebook."
   ]
  },
  {
   "cell_type": "code",
   "execution_count": 18,
   "metadata": {},
   "outputs": [
    {
     "data": {
      "text/plain": [
       "<matplotlib.axes._subplots.AxesSubplot at 0x7f9196da7a58>"
      ]
     },
     "execution_count": 18,
     "metadata": {},
     "output_type": "execute_result"
    },
    {
     "data": {
      "image/png": "[encoded data removed]",
      "text/plain": [
       "<Figure size 432x288 with 1 Axes>"
      ]
     },
     "metadata": {
      "needs_background": "light"
     },
     "output_type": "display_data"
    }
   ],
   "source": [
    "def play_until_generala():\n",
    "    number_of_attempts = 0\n",
    "    while True:\n",
    "        number_of_attempts = number_of_attempts + 1\n",
    "        if get_generala(5, 3):\n",
    "            break\n",
    "    #print(\"You had to play \", number_of_attempts, \"times before getting a generala\")\n",
    "    return number_of_attempts\n",
    "\n",
    "play_until_generala()\n",
    "\n",
    "results = []\n",
    "for i in range(500):\n",
    "    results.append(play_until_generala())\n",
    "    \n",
    "sns.distplot(results, bins=10, kde=False)\n",
    "    "
   ]
  },
  {
   "cell_type": "markdown",
   "metadata": {},
   "source": [
    "From the graph above we see the number of people that got a generala on the y axis and the amount of times one had to play in order to get a generala. As we can see by appling a greedy approach to the way we play generala we will experience higher probabilities of getting a generala after a little amount of games and a lower amount of people getting a generala after playing for a long time. This makes up for a decreasing exponential distribution."
   ]
  }
 ],
 "metadata": {
  "kernelspec": {
   "display_name": "Python 3",
   "language": "python",
   "name": "python3"
  },
  "language_info": {
   "codemirror_mode": {
    "name": "ipython",
    "version": 3
   },
   "file_extension": ".py",
   "mimetype": "text/x-python",
   "name": "python",
   "nbconvert_exporter": "python",
   "pygments_lexer": "ipython3",
   "version": "3.7.3"
  }
 },
 "nbformat": 4,
 "nbformat_minor": 2
}
