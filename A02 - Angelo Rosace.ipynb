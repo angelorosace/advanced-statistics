{
 "cells": [
  {
   "cell_type": "markdown",
   "metadata": {},
   "source": [
    "# Assignment 2\n",
    "\n",
    "## Angelo Rosace\n",
    "\n"
   ]
  },
  {
   "cell_type": "code",
   "execution_count": null,
   "metadata": {},
   "outputs": [],
   "source": [
    "import pandas as pd\n",
    "import seaborn as sn\n",
    "import random as rand\n",
    "import matplotlib.pyplot as plt "
   ]
  },
  {
   "cell_type": "markdown",
   "metadata": {},
   "source": [
    "### Assignment 2: exercise 1"
   ]
  },
  {
   "cell_type": "markdown",
   "metadata": {},
   "source": [
    "First of all we will need to read the file containing the result of the experiment"
   ]
  },
  {
   "cell_type": "code",
   "execution_count": null,
   "metadata": {},
   "outputs": [],
   "source": [
    "diet_and_atp = pd.read_csv(\"diet_and_atp.tsv\", sep = \"\\t\", header = [0])\n",
    "diet_and_atp"
   ]
  },
  {
   "cell_type": "markdown",
   "metadata": {},
   "source": [
    "Above is the table containing the data that came from the experiment done in the lab.\n",
    "In order to have a deeper understanding of the data we will plot each of the distributions of the different values."
   ]
  },
  {
   "cell_type": "code",
   "execution_count": null,
   "metadata": {},
   "outputs": [],
   "source": [
    "atp = diet_and_atp[\"ATP\"]\n",
    "prot = diet_and_atp[\"Protein\"]\n",
    "carb = diet_and_atp[\"Carbohydrates\"]\n",
    "fat = diet_and_atp[\"Fat\"]\n",
    "\n",
    "plt.subplot(2,2,1)\n",
    "sn.distplot(atp, label=\"ATP\")\n",
    "plt.legend()\n",
    "plt.subplot(2,2,2)\n",
    "sn.distplot(prot, label=\"Proteins\")\n",
    "plt.legend()\n",
    "plt.subplot(2,2,3)\n",
    "sn.distplot(carb, label=\"Carbohidrates\")\n",
    "plt.legend()\n",
    "plt.subplot(2,2,4)\n",
    "sn.distplot(fat, label=\"Fats\")\n",
    "plt.legend()\n",
    "plt.show"
   ]
  },
  {
   "cell_type": "markdown",
   "metadata": {},
   "source": [
    "By taking a look to the graphs for all the variables individually we can recognize some sort of normal distribution for all of them.\n",
    "\n",
    "Besides from the data the experiment tells us also that the model describing our data is defined by this function:\n",
    "**atp = a * Protein + b * Carbohidrates + c * Fat + ε**\n",
    "\n",
    "This information plus the information we get by inspecting the data leads us to the next step: \n",
    "Implement a Markov Chain Monte Carlo algorithm."
   ]
  },
  {
   "cell_type": "code",
   "execution_count": null,
   "metadata": {},
   "outputs": [],
   "source": [
    "def mean(lst): \n",
    "    return sum(lst) / len(lst)\n",
    "\n",
    "# I want to obtain the posterior distribution of my samples\n",
    "\n",
    "iterations = 100000\n",
    "# This are the initial guesses for the mean. They are arbitrary, changing them will affect the execution of the algorithm\n",
    "current_prot = mean(prot) #- 0.5\n",
    "current_carb = mean(carb) #- 1\n",
    "current_fat = mean(fat) #- 0.05\n",
    "\n",
    "# Record of the steps. It is a list of lists containing a list for each iteration. This lists are made of the values of the three variables explaining the model\n",
    "all_steps_prot = []\n",
    "all_steps_carb = []\n",
    "all_steps_fat = []\n",
    "# Record of the posterior distribution\n",
    "all_currents_prot = []\n",
    "all_currents_carb = []\n",
    "all_currents_fat = []\n",
    "\n",
    "for i in range(iterations):\n",
    "    # Move randomly, forward or backwards, at a maximun distance of 0.5 in each direction, that is on the surfaces explained by the three variables\n",
    "    # The different distances for the different variables are due to the scale of each one of them, the larger the scale the longer the distance.\n",
    "    step_prot = (rand.random()/10) - 0.05\n",
    "    step_carb = rand.random() - 0.5\n",
    "    step_fat = (rand.random()/10)-0.05\n",
    "    # The step that I will decide if I accept it or not\n",
    "    candidate_current_prot = current_prot + step_prot\n",
    "    candidate_current_carb = current_carb + step_carb\n",
    "    candidate_current_fat = current_fat + step_fat\n",
    "    \n",
    "    p_actual_step_prot = len([sample for sample in prot if current_prot - 0.05 < sample and sample < current_prot + 0.05]) / float(len(prot))\n",
    "    p_candidate_step_prot = len([sample for sample in prot if candidate_current_prot - 0.05 < sample and sample < candidate_current_prot + 0.05]) / float(len(prot))\n",
    "    \n",
    "    p_actual_step_carb = len([sample for sample in carb if current_carb - 0.5 < sample and sample < current_carb + 0.5]) / float(len(carb))\n",
    "    p_candidate_step_carb = len([sample for sample in carb if candidate_current_carb - 0.5 < sample and sample < candidate_current_carb + 0.5]) / float(len(carb))\n",
    "    \n",
    "    p_actual_step_fat = len([sample for sample in fat if current_fat - 0.05 < sample and sample < current_fat + 0.05]) / float(len(fat))\n",
    "    p_candidate_step_fat = len([sample for sample in fat if candidate_current_fat - 0.05 < sample and sample < candidate_current_fat + 0.05]) / float(len(fat))\n",
    "    \n",
    "    \n",
    "    # If the new step is better, I always accept\n",
    "    # If not, I accept it randomly\n",
    "    if p_candidate_step_prot > p_actual_step_prot:\n",
    "        current_prot = candidate_current_prot\n",
    "    else:\n",
    "        random_number = rand.random()\n",
    "        if random_number <= p_candidate_step_prot / p_actual_step_prot:\n",
    "            current_prot = candidate_current_prot\n",
    "    \n",
    "    if p_candidate_step_carb > p_actual_step_carb:\n",
    "        current_carb = candidate_current_carb\n",
    "    else:\n",
    "        random_number = rand.random()\n",
    "        if random_number <= p_candidate_step_carb / p_actual_step_carb:\n",
    "            current_carb = candidate_current_carb\n",
    "            \n",
    "    if p_candidate_step_fat > p_actual_step_fat:\n",
    "        current_fat = candidate_current_fat\n",
    "    else:\n",
    "        random_number = rand.random()\n",
    "        if random_number <= p_candidate_step_fat / p_actual_step_fat:\n",
    "            current_fat = candidate_current_fat\n",
    "    \n",
    "    \n",
    "    # I record my step and where I'm standing\n",
    "    all_currents_prot.append(current_prot)\n",
    "    all_currents_carb.append(current_carb)\n",
    "    all_currents_fat.append(current_fat)\n",
    "    all_steps_prot.append(step_prot)\n",
    "    all_steps_carb.append(step_carb)\n",
    "    all_steps_fat.append(step_fat)\n",
    "    \n",
    "    \n",
    "\n",
    "# If I plot all my standings, I will have the likelihood function of the mean of the data \n",
    "# (the parameter of the model that I'm inferring)\n",
    "fig=plt.figure(figsize=(12, 12))\n",
    "sn.distplot(all_currents_prot, kde=False, label=\"my guess after %s iterations\" % iterations, norm_hist=True)\n",
    "# And I compare them with the original samples\n",
    "sn.distplot(prot, kde=False, label=\"original sample\", norm_hist=True)\n",
    "plt.legend()\n",
    "\n",
    "fig2=plt.figure(figsize=(12, 12))\n",
    "sn.distplot(all_currents_carb, kde=False, label=\"my guess after %s iterations\" % iterations, norm_hist=True)\n",
    "sn.distplot(carb, kde=False, label=\"original sample\", norm_hist=True)\n",
    "plt.legend()\n",
    "\n",
    "fig3=plt.figure(figsize=(12, 12))\n",
    "sn.distplot(all_currents_fat, kde=False, label=\"my guess after %s iterations\" % iterations, norm_hist=True)\n",
    "sn.distplot(fat, kde=False, label=\"original sample\", norm_hist=True)\n",
    "plt.legend()"
   ]
  },
  {
   "cell_type": "code",
   "execution_count": null,
   "metadata": {},
   "outputs": [],
   "source": [
    "prot_coeficient = mean(all_currents_prot)\n",
    "carb_coeficient = mean(all_currents_carb)\n",
    "fat_coeficient = mean(all_currents_fat)\n",
    "\n",
    "print(\"The inferred coeficient for the protein variable of the model is:\", prot_coeficient)\n",
    "print(\"The inferred coeficient for the carbohidrate variable of the model is:\", carb_coeficient)\n",
    "print(\"The inferred coeficient for the fat variable of the model is:\", fat_coeficient)"
   ]
  },
  {
   "cell_type": "markdown",
   "metadata": {},
   "source": [
    "Having inferred the coeficients of the variable, the only thing that is left to do is to consider and infer the error that the model describes.\n",
    "\n",
    "In order to do so I will consider the standard errors of all the distributions and sum them. "
   ]
  },
  {
   "cell_type": "code",
   "execution_count": null,
   "metadata": {},
   "outputs": [],
   "source": [
    "#calculate standard error\n",
    "def standard_error(lst):\n",
    "    mu = mean(lst)\n",
    "    var = 0\n",
    "    n = len(lst)\n",
    "    for i in lst:\n",
    "        var = var + ((i-mu)**2)\n",
    "    sd = (var/(n-1))**0.5\n",
    "    return sd/(n**0.5)\n",
    "    \n",
    "overall_error = standard_error(all_currents_prot) + standard_error(all_currents_carb) + standard_error(all_currents_fat)\n",
    "print(\"The overall standard error for our posterior distributions is: \", overall_error)"
   ]
  },
  {
   "cell_type": "markdown",
   "metadata": {},
   "source": [
    "### Assignment 1: Exercise 5\n",
    "\n",
    "Compute the probabilities that you already computed by hand by counting the outcomes describing each roll result in the list of all possible hands.\n"
   ]
  },
  {
   "cell_type": "code",
   "execution_count": 1,
   "metadata": {},
   "outputs": [],
   "source": [
    "allRolls5Dice = lambda : [[a+1,b+1,c+1,d+1,e+1] for a in range (6)\\\n",
    "                                                for b in range (6)\\\n",
    "                                                for c in range (6)\\\n",
    "                                                for d in range (6)\\\n",
    "                                                for e in range (6)]\n",
    "\n",
    "allRollsNDices = lambda n: [[a+1]+smallerRoll for a in range(6) for smallerRoll in allRollsNDices(n-1)] if n > 1 else [[a+1] for a in range(6)]\n",
    "\n",
    "isGenerala = lambda roll: True if len(set(roll)) == 1 else False\n",
    "\n",
    "p_served_generala = len([roll for roll in allRolls5Dice() if isGenerala(roll)]) / float(len(allRolls5Dice()))\n",
    "\n",
    "notServedGeneralas = [roll for roll in allRolls5Dice() if not isGenerala(roll)]\n",
    "\n",
    "waysOfChooseFromFiveDice = 5 + 5*4 + 5*4*3 + 5*4*3*2 + 5*4*3*2*1"
   ]
  },
  {
   "cell_type": "code",
   "execution_count": 2,
   "metadata": {},
   "outputs": [
    {
     "name": "stdout",
     "output_type": "stream",
     "text": [
      "27900 9028650\n"
     ]
    }
   ],
   "source": [
    "unUnsefulPickUpsCount = 0\n",
    "usefulPickUps = []\n",
    "for notServedGenerala in notServedGeneralas:\n",
    "    for diceType in set(notServedGenerala):\n",
    "        usefulPickUp = [dice for dice in notServedGenerala if dice == diceType]\n",
    "        usefulPickUps.append(usefulPickUp)\n",
    "        \n",
    "        unUnsefulPickUpsCount += waysOfChooseFromFiveDice - len(usefulPickUp)\n",
    "        \n",
    "#print (len (usefulPickUps), unUnsefulPickUpsCount)"
   ]
  },
  {
   "cell_type": "code",
   "execution_count": 3,
   "metadata": {},
   "outputs": [
    {
     "name": "stdout",
     "output_type": "stream",
     "text": [
      "27900 25947000\n"
     ]
    }
   ],
   "source": [
    "generalaCountAfterReroll = 0\n",
    "notGeneralaCountAfterReroll = 0\n",
    "#notGeneralasAfterReroll = []\n",
    "for usefulPickUp in usefulPickUps:\n",
    "    for reroll in allRollsNDices(5-len(usefulPickUp)):\n",
    "        if isGenerala(usefulPickUp+reroll): generalaCountAfterReroll += 1\n",
    "        else: \n",
    "            notGeneralaCountAfterReroll += 1\n",
    "            #notGeneralasAfterReroll.append(usefulPickUp+reroll)\n",
    "        \n",
    "#print (generalaCountAfterReroll, notGeneralaCountAfterReroll)\n",
    "\n",
    "p_generala_after_two_rolls = p_served_generala + ( generalaCountAfterReroll / (generalaCountAfterReroll+notGeneralaCountAfterReroll + unUnsefulPickUpsCount) )"
   ]
  },
  {
   "cell_type": "code",
   "execution_count": 12,
   "metadata": {},
   "outputs": [
    {
     "name": "stdout",
     "output_type": "stream",
     "text": [
      "the prbability of getting a generala after three rerolls is : 0.002362565032819838\n"
     ]
    }
   ],
   "source": [
    "generalaCountAfterLastReroll = 0\n",
    "notGeneralaCountAfterLastReroll = notGeneralaCountAfterReroll\n",
    "for usefulLastPickUp in usefulPickUps:\n",
    "    for reroll in allRollsNDices(5-len(usefulPickUp)):\n",
    "        if isGenerala(usefulLastPickUp+reroll): generalaCountAfterLastReroll += 1\n",
    "        else: \n",
    "            notGeneralaCountAfterLastReroll += 1\n",
    "\n",
    "#print (generalaCountAfterLastReroll, notGeneralaCountAfterLastReroll)\n",
    "p_generala_after_three_rolls = p_generala_after_two_rolls + ( generalaCountAfterLastReroll / (generalaCountAfterLastReroll+notGeneralaCountAfterLastReroll + unUnsefulPickUpsCount) )\n",
    "print(\"the prbability of getting a generala after three rerolls is :\", p_generala_after_three_rolls)"
   ]
  },
  {
   "cell_type": "code",
   "execution_count": null,
   "metadata": {},
   "outputs": [],
   "source": []
  }
 ],
 "metadata": {
  "kernelspec": {
   "display_name": "Python 3",
   "language": "python",
   "name": "python3"
  },
  "language_info": {
   "codemirror_mode": {
    "name": "ipython",
    "version": 3
   },
   "file_extension": ".py",
   "mimetype": "text/x-python",
   "name": "python",
   "nbconvert_exporter": "python",
   "pygments_lexer": "ipython3",
   "version": "3.7.3"
  }
 },
 "nbformat": 4,
 "nbformat_minor": 2
}
