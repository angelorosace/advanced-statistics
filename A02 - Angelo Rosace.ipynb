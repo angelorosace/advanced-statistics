{
 "cells": [
  {
   "cell_type": "markdown",
   "metadata": {},
   "source": [
    "# Assignment 2\n",
    "\n",
    "## Angelo Rosace\n",
    "\n"
   ]
  },
  {
   "cell_type": "code",
   "execution_count": 2,
   "metadata": {},
   "outputs": [],
   "source": [
    "import pandas as pd\n",
    "import seaborn as sn\n",
    "import random as rand\n",
    "import matplotlib.pyplot as plt "
   ]
  },
  {
   "cell_type": "markdown",
   "metadata": {},
   "source": [
    "### Assignment 2: exercise 1"
   ]
  },
  {
   "cell_type": "markdown",
   "metadata": {},
   "source": [
    "First of all we will need to read the file containing the result of the experiment."
   ]
  },
  {
   "cell_type": "code",
   "execution_count": 3,
   "metadata": {},
   "outputs": [
    {
     "data": {
      "text/html": [
       "<div>\n",
       "<style scoped>\n",
       "    .dataframe tbody tr th:only-of-type {\n",
       "        vertical-align: middle;\n",
       "    }\n",
       "\n",
       "    .dataframe tbody tr th {\n",
       "        vertical-align: top;\n",
       "    }\n",
       "\n",
       "    .dataframe thead th {\n",
       "        text-align: right;\n",
       "    }\n",
       "</style>\n",
       "<table border=\"1\" class=\"dataframe\">\n",
       "  <thead>\n",
       "    <tr style=\"text-align: right;\">\n",
       "      <th></th>\n",
       "      <th>Protein</th>\n",
       "      <th>Carbohydrates</th>\n",
       "      <th>Fat</th>\n",
       "      <th>ATP</th>\n",
       "    </tr>\n",
       "  </thead>\n",
       "  <tbody>\n",
       "    <tr>\n",
       "      <th>0</th>\n",
       "      <td>1.95</td>\n",
       "      <td>6.92</td>\n",
       "      <td>0.02</td>\n",
       "      <td>9.44</td>\n",
       "    </tr>\n",
       "    <tr>\n",
       "      <th>1</th>\n",
       "      <td>0.64</td>\n",
       "      <td>2.65</td>\n",
       "      <td>0.15</td>\n",
       "      <td>4.04</td>\n",
       "    </tr>\n",
       "    <tr>\n",
       "      <th>2</th>\n",
       "      <td>1.82</td>\n",
       "      <td>0.98</td>\n",
       "      <td>0.21</td>\n",
       "      <td>3.72</td>\n",
       "    </tr>\n",
       "    <tr>\n",
       "      <th>3</th>\n",
       "      <td>1.80</td>\n",
       "      <td>4.69</td>\n",
       "      <td>0.23</td>\n",
       "      <td>7.54</td>\n",
       "    </tr>\n",
       "    <tr>\n",
       "      <th>4</th>\n",
       "      <td>0.93</td>\n",
       "      <td>4.22</td>\n",
       "      <td>0.02</td>\n",
       "      <td>5.70</td>\n",
       "    </tr>\n",
       "    <tr>\n",
       "      <th>...</th>\n",
       "      <td>...</td>\n",
       "      <td>...</td>\n",
       "      <td>...</td>\n",
       "      <td>...</td>\n",
       "    </tr>\n",
       "    <tr>\n",
       "      <th>94</th>\n",
       "      <td>1.83</td>\n",
       "      <td>5.69</td>\n",
       "      <td>0.15</td>\n",
       "      <td>8.60</td>\n",
       "    </tr>\n",
       "    <tr>\n",
       "      <th>95</th>\n",
       "      <td>1.77</td>\n",
       "      <td>6.33</td>\n",
       "      <td>0.07</td>\n",
       "      <td>8.66</td>\n",
       "    </tr>\n",
       "    <tr>\n",
       "      <th>96</th>\n",
       "      <td>1.15</td>\n",
       "      <td>4.88</td>\n",
       "      <td>0.27</td>\n",
       "      <td>6.80</td>\n",
       "    </tr>\n",
       "    <tr>\n",
       "      <th>97</th>\n",
       "      <td>1.30</td>\n",
       "      <td>3.91</td>\n",
       "      <td>0.03</td>\n",
       "      <td>5.46</td>\n",
       "    </tr>\n",
       "    <tr>\n",
       "      <th>98</th>\n",
       "      <td>0.56</td>\n",
       "      <td>0.90</td>\n",
       "      <td>0.16</td>\n",
       "      <td>2.15</td>\n",
       "    </tr>\n",
       "  </tbody>\n",
       "</table>\n",
       "<p>99 rows × 4 columns</p>\n",
       "</div>"
      ],
      "text/plain": [
       "    Protein  Carbohydrates   Fat   ATP\n",
       "0      1.95           6.92  0.02  9.44\n",
       "1      0.64           2.65  0.15  4.04\n",
       "2      1.82           0.98  0.21  3.72\n",
       "3      1.80           4.69  0.23  7.54\n",
       "4      0.93           4.22  0.02  5.70\n",
       "..      ...            ...   ...   ...\n",
       "94     1.83           5.69  0.15  8.60\n",
       "95     1.77           6.33  0.07  8.66\n",
       "96     1.15           4.88  0.27  6.80\n",
       "97     1.30           3.91  0.03  5.46\n",
       "98     0.56           0.90  0.16  2.15\n",
       "\n",
       "[99 rows x 4 columns]"
      ]
     },
     "execution_count": 3,
     "metadata": {},
     "output_type": "execute_result"
    }
   ],
   "source": [
    "diet_and_atp = pd.read_csv(\"diet_and_atp.tsv\", sep = \"\\t\", header = [0])\n",
    "diet_and_atp"
   ]
  },
  {
   "cell_type": "markdown",
   "metadata": {},
   "source": [
    "Above is the table containing the data that came from the experiment done in the lab.\n",
    "In order to have a deeper understanding of the data we will plot each of the distributions of the different values."
   ]
  },
  {
   "cell_type": "code",
   "execution_count": 4,
   "metadata": {},
   "outputs": [
    {
     "data": {
      "text/plain": [
       "<function matplotlib.pyplot.show(*args, **kw)>"
      ]
     },
     "execution_count": 4,
     "metadata": {},
     "output_type": "execute_result"
    },
    {
     "data": {
      "image/png": "[encoded data removed]",
      "text/plain": [
       "<Figure size 432x288 with 4 Axes>"
      ]
     },
     "metadata": {
      "needs_background": "light"
     },
     "output_type": "display_data"
    }
   ],
   "source": [
    "atp = diet_and_atp[\"ATP\"]\n",
    "prot = diet_and_atp[\"Protein\"]\n",
    "carb = diet_and_atp[\"Carbohydrates\"]\n",
    "fat = diet_and_atp[\"Fat\"]\n",
    "\n",
    "plt.subplot(2,2,1)\n",
    "sn.distplot(atp, label=\"ATP\")\n",
    "plt.legend()\n",
    "plt.subplot(2,2,2)\n",
    "sn.distplot(prot, label=\"Proteins\")\n",
    "plt.legend()\n",
    "plt.subplot(2,2,3)\n",
    "sn.distplot(carb, label=\"Carbohidrates\")\n",
    "plt.legend()\n",
    "plt.subplot(2,2,4)\n",
    "sn.distplot(fat, label=\"Fats\")\n",
    "plt.legend()\n",
    "plt.show"
   ]
  },
  {
   "cell_type": "markdown",
   "metadata": {},
   "source": [
    "By taking a look to the graphs for all the variables individually we can recognize some sort of normal distribution for all of them.\n",
    "\n",
    "Besides from the data, the experiment tells us also that the model describing our data is defined by this function:\n",
    "**atp = a * Protein + b * Carbohidrates + c * Fat + ε**\n",
    "\n",
    "This information plus the information we get by inspecting the data leads us to the next step: \n",
    "Implement a Markov Chain Monte Carlo algorithm in order to infer the unknown parameters of the model"
   ]
  },
  {
   "cell_type": "code",
   "execution_count": 5,
   "metadata": {},
   "outputs": [
    {
     "data": {
      "text/plain": [
       "<matplotlib.legend.Legend at 0x7f67c903bac8>"
      ]
     },
     "execution_count": 5,
     "metadata": {},
     "output_type": "execute_result"
    },
    {
     "data": {
      "image/png": "[encoded data removed]",
      "text/plain": [
       "<Figure size 864x864 with 1 Axes>"
      ]
     },
     "metadata": {
      "needs_background": "light"
     },
     "output_type": "display_data"
    },
    {
     "data": {
      "image/png": "[encoded data removed]",
      "text/plain": [
       "<Figure size 864x864 with 1 Axes>"
      ]
     },
     "metadata": {
      "needs_background": "light"
     },
     "output_type": "display_data"
    },
    {
     "data": {
      "image/png": "[encoded data removed]",
      "text/plain": [
       "<Figure size 864x864 with 1 Axes>"
      ]
     },
     "metadata": {
      "needs_background": "light"
     },
     "output_type": "display_data"
    }
   ],
   "source": [
    "def mean(lst): \n",
    "    return sum(lst) / len(lst)\n",
    "\n",
    "# I want to obtain the posterior distribution of my samples\n",
    "\n",
    "iterations = 100000\n",
    "# This are the initial guesses for the mean. They are arbitrary, changing them will affect the execution of the algorithm\n",
    "current_prot = mean(prot) #- 0.5\n",
    "current_carb = mean(carb) #- 1\n",
    "current_fat = mean(fat) #- 0.05\n",
    "\n",
    "# Record of the steps. It is a list of lists containing a list for each iteration. This lists are made of the values of the three variables explaining the model\n",
    "all_steps_prot = []\n",
    "all_steps_carb = []\n",
    "all_steps_fat = []\n",
    "# Record of the posterior distribution\n",
    "all_currents_prot = []\n",
    "all_currents_carb = []\n",
    "all_currents_fat = []\n",
    "\n",
    "for i in range(iterations):\n",
    "    # Move randomly, forward or backwards, at a maximun distance of 0.5 or 0.05 in each direction, that is on the surfaces explained by the three variables\n",
    "    # The different distances for the different variables are due to the scale of each one of them, the larger the scale the longer the distance.\n",
    "    step_prot = (rand.random()/10) - 0.05\n",
    "    step_carb = rand.random() - 0.5\n",
    "    step_fat = (rand.random()/10)-0.05\n",
    "    # The step that I will decide if I accept it or not\n",
    "    candidate_current_prot = current_prot + step_prot\n",
    "    candidate_current_carb = current_carb + step_carb\n",
    "    candidate_current_fat = current_fat + step_fat\n",
    "    \n",
    "    p_actual_step_prot = len([sample for sample in prot if current_prot - 0.05 < sample and sample < current_prot + 0.05]) / float(len(prot))\n",
    "    p_candidate_step_prot = len([sample for sample in prot if candidate_current_prot - 0.05 < sample and sample < candidate_current_prot + 0.05]) / float(len(prot))\n",
    "    \n",
    "    p_actual_step_carb = len([sample for sample in carb if current_carb - 0.5 < sample and sample < current_carb + 0.5]) / float(len(carb))\n",
    "    p_candidate_step_carb = len([sample for sample in carb if candidate_current_carb - 0.5 < sample and sample < candidate_current_carb + 0.5]) / float(len(carb))\n",
    "    \n",
    "    p_actual_step_fat = len([sample for sample in fat if current_fat - 0.05 < sample and sample < current_fat + 0.05]) / float(len(fat))\n",
    "    p_candidate_step_fat = len([sample for sample in fat if candidate_current_fat - 0.05 < sample and sample < candidate_current_fat + 0.05]) / float(len(fat))\n",
    "    \n",
    "    \n",
    "    # If the new step is better, I always accept\n",
    "    # If not, I accept it randomly\n",
    "    if p_candidate_step_prot > p_actual_step_prot:\n",
    "        current_prot = candidate_current_prot\n",
    "    else:\n",
    "        random_number = rand.random()\n",
    "        if random_number <= p_candidate_step_prot / p_actual_step_prot:\n",
    "            current_prot = candidate_current_prot\n",
    "    \n",
    "    if p_candidate_step_carb > p_actual_step_carb:\n",
    "        current_carb = candidate_current_carb\n",
    "    else:\n",
    "        random_number = rand.random()\n",
    "        if random_number <= p_candidate_step_carb / p_actual_step_carb:\n",
    "            current_carb = candidate_current_carb\n",
    "            \n",
    "    if p_candidate_step_fat > p_actual_step_fat:\n",
    "        current_fat = candidate_current_fat\n",
    "    else:\n",
    "        random_number = rand.random()\n",
    "        if random_number <= p_candidate_step_fat / p_actual_step_fat:\n",
    "            current_fat = candidate_current_fat\n",
    "    \n",
    "    \n",
    "    # I record my step and where I'm standing\n",
    "    all_currents_prot.append(current_prot)\n",
    "    all_currents_carb.append(current_carb)\n",
    "    all_currents_fat.append(current_fat)\n",
    "    all_steps_prot.append(step_prot)\n",
    "    all_steps_carb.append(step_carb)\n",
    "    all_steps_fat.append(step_fat)\n",
    "    \n",
    "    \n",
    "\n",
    "# If I plot all my standings, I will have the likelihood function of the mean of the data \n",
    "# (the parameter of the model that I'm inferring)\n",
    "fig=plt.figure(figsize=(12, 12))\n",
    "sn.distplot(all_currents_prot, kde=False, label=\"my guess after %s iterations\" % iterations, norm_hist=True)\n",
    "# And I compare them with the original samples\n",
    "sn.distplot(prot, kde=False, label=\"original sample\", norm_hist=True)\n",
    "plt.legend()\n",
    "\n",
    "fig2=plt.figure(figsize=(12, 12))\n",
    "sn.distplot(all_currents_carb, kde=False, label=\"my guess after %s iterations\" % iterations, norm_hist=True)\n",
    "sn.distplot(carb, kde=False, label=\"original sample\", norm_hist=True)\n",
    "plt.legend()\n",
    "\n",
    "fig3=plt.figure(figsize=(12, 12))\n",
    "sn.distplot(all_currents_fat, kde=False, label=\"my guess after %s iterations\" % iterations, norm_hist=True)\n",
    "sn.distplot(fat, kde=False, label=\"original sample\", norm_hist=True)\n",
    "plt.legend()"
   ]
  },
  {
   "cell_type": "markdown",
   "metadata": {},
   "source": [
    "The algorithm traverses the surface descibed by the model and computes the posterior distributions of the three variables. Finally it plots the result for the posterior distributions. Now, in order to infer the best values for the coeficients of the three variables of the model we would have to get the most common posterior value of the distribution. Since we said that the variables follow a normal distribution I would calculate the mean of the distributions (mu) as the sumatory of the product between all the values of a certain variable and the probability of them to appear. That means: **mu = E(x * p(x))**. "
   ]
  },
  {
   "cell_type": "code",
   "execution_count": 9,
   "metadata": {},
   "outputs": [
    {
     "name": "stdout",
     "output_type": "stream",
     "text": [
      "The inferred coeficient for the protein variable of the model is: 0.11488710394969694\n",
      "The inferred coeficient for the carbohidrate variable of the model is: 0.29572450894559943\n",
      "The inferred coeficient for the fat variable of the model is: 0.020410397400562663\n"
     ]
    }
   ],
   "source": [
    "def mu(lst):\n",
    "    l = len(lst)\n",
    "    p_dict = {}\n",
    "    tmp = 0\n",
    "    i = 0\n",
    "    while i < (l-1):\n",
    "        #calculate probability of each value with respect to the whole set and add it to the dictionary\n",
    "        if not (lst[i] == lst[i+1]): \n",
    "            p = float(tmp/l)\n",
    "            p_dict[lst[i]] = p\n",
    "            tmp = 0\n",
    "        else:\n",
    "            tmp += 1\n",
    "        i += 1\n",
    "    \n",
    "    #perform the sum of the product of the different values and the probability of each values that are contained in the dictionary\n",
    "    mu = 0\n",
    "    for i in p_dict:\n",
    "        mu += float((i*p_dict[i]))\n",
    "    \n",
    "    return mu\n",
    "    \n",
    "\n",
    "prot_coeficient = mu(all_currents_prot)\n",
    "carb_coeficient = mu(all_currents_carb)\n",
    "fat_coeficient = mu(all_currents_fat)\n",
    "\n",
    "print(\"The inferred coeficient for the protein variable of the model is:\", prot_coeficient)\n",
    "print(\"The inferred coeficient for the carbohidrate variable of the model is:\", carb_coeficient)\n",
    "print(\"The inferred coeficient for the fat variable of the model is:\", fat_coeficient)"
   ]
  },
  {
   "cell_type": "markdown",
   "metadata": {},
   "source": [
    "Having inferred the coeficients of the variable, the only thing that is left to do is to consider and infer the error that the model describes.\n",
    "\n",
    "In order to do so I will consider the standard errors of all the distributions and sum them. "
   ]
  },
  {
   "cell_type": "code",
   "execution_count": 10,
   "metadata": {},
   "outputs": [
    {
     "name": "stdout",
     "output_type": "stream",
     "text": [
      "The overall standard error for our posterior distributions is:  0.016335749974803134\n"
     ]
    }
   ],
   "source": [
    "#calculate standard error\n",
    "def standard_error(lst):\n",
    "    m = mu(lst)\n",
    "    var = 0\n",
    "    n = len(lst)\n",
    "    for i in lst:\n",
    "        var = var + ((i-m)**2)\n",
    "    sd = (var/(n-1))**0.5\n",
    "    return sd/(n**0.5)\n",
    "    \n",
    "overall_error = standard_error(all_currents_prot) + standard_error(all_currents_carb) + standard_error(all_currents_fat)\n",
    "print(\"The overall standard error for our posterior distributions is: \", overall_error)"
   ]
  },
  {
   "cell_type": "markdown",
   "metadata": {},
   "source": [
    "### Assignment 1: Exercise 5\n",
    "\n",
    "Compute the probabilities that you already computed by hand by counting the outcomes describing each roll result in the list of all possible hands.\n",
    "\n",
    "Here functions for calculationg the probability of a generala are implemented."
   ]
  },
  {
   "cell_type": "code",
   "execution_count": null,
   "metadata": {},
   "outputs": [],
   "source": [
    "allRolls5Dice = lambda : [[a+1,b+1,c+1,d+1,e+1] for a in range (6)\\\n",
    "                                                for b in range (6)\\\n",
    "                                                for c in range (6)\\\n",
    "                                                for d in range (6)\\\n",
    "                                                for e in range (6)]\n",
    "\n",
    "allRollsNDices = lambda n: [[a+1]+smallerRoll for a in range(6) for smallerRoll in allRollsNDices(n-1)] if n > 1 else [[a+1] for a in range(6)]\n",
    "\n",
    "isGenerala = lambda roll: True if len(set(roll)) == 1 else False\n",
    "\n",
    "p_served_generala = len([roll for roll in allRolls5Dice() if isGenerala(roll)]) / float(len(allRolls5Dice()))\n",
    "\n",
    "notServedGeneralas = [roll for roll in allRolls5Dice() if not isGenerala(roll)]\n",
    "\n",
    "waysOfChooseFromFiveDice = 5 + 5*4 + 5*4*3 + 5*4*3*2 + 5*4*3*2*1"
   ]
  },
  {
   "cell_type": "markdown",
   "metadata": {},
   "source": [
    "First, a for loop computing the set of all the usefull pickups for the first throw of dice is implemented.\n",
    "The result is a list containing all the usefull sets of dice that could help us to get a generala. "
   ]
  },
  {
   "cell_type": "code",
   "execution_count": null,
   "metadata": {},
   "outputs": [],
   "source": [
    "unUnsefulPickUpsCount = 0\n",
    "usefulPickUps = []\n",
    "for notServedGenerala in notServedGeneralas:\n",
    "    for diceType in set(notServedGenerala):\n",
    "        usefulPickUp = [dice for dice in notServedGenerala if dice == diceType]\n",
    "        usefulPickUps.append(usefulPickUp)\n",
    "        \n",
    "        unUnsefulPickUpsCount += waysOfChooseFromFiveDice - len(usefulPickUp)\n",
    "        \n",
    "#print (len (usefulPickUps), unUnsefulPickUpsCount)"
   ]
  },
  {
   "cell_type": "markdown",
   "metadata": {},
   "source": [
    "Second, the set of usefull pickups is used to calculate the probability of getting a generala after a second reroll."
   ]
  },
  {
   "cell_type": "code",
   "execution_count": null,
   "metadata": {},
   "outputs": [],
   "source": [
    "generalaCountAfterReroll = 0\n",
    "notGeneralaCountAfterReroll = 0\n",
    "for usefulPickUp in usefulPickUps:\n",
    "    for reroll in allRollsNDices(5-len(usefulPickUp)):\n",
    "        if isGenerala(usefulPickUp+reroll): generalaCountAfterReroll += 1\n",
    "        else: \n",
    "            notGeneralaCountAfterReroll += 1\n",
    "        \n",
    "#print (generalaCountAfterReroll, notGeneralaCountAfterReroll)\n",
    "\n",
    "p_generala_after_two_rolls = p_served_generala + ( generalaCountAfterReroll / (generalaCountAfterReroll+notGeneralaCountAfterReroll + unUnsefulPickUpsCount) )"
   ]
  },
  {
   "cell_type": "markdown",
   "metadata": {},
   "source": [
    "Lastly, the same set of possible pickps is used for caclulating the probability of getting a generala after a third reroll.\n",
    "The same set is used because we do not want to take in consideration any strategy while playing the game. For this reason we have to take in consideration all possible pickups, also those ones that would not apparently make sense. That means that we would consider again the whole set of pickups."
   ]
  },
  {
   "cell_type": "code",
   "execution_count": null,
   "metadata": {},
   "outputs": [],
   "source": [
    "generalaCountAfterLastReroll = 0\n",
    "notGeneralaCountAfterLastReroll = notGeneralaCountAfterReroll\n",
    "for usefulLastPickUp in usefulPickUps:\n",
    "    for reroll in allRollsNDices(5-len(usefulPickUp)):\n",
    "        if isGenerala(usefulLastPickUp+reroll): generalaCountAfterLastReroll += 1\n",
    "        else: \n",
    "            notGeneralaCountAfterLastReroll += 1\n",
    "\n",
    "#print (generalaCountAfterLastReroll, notGeneralaCountAfterLastReroll)\n",
    "p_generala_after_three_rolls = p_generala_after_two_rolls + ( generalaCountAfterLastReroll / (generalaCountAfterLastReroll+notGeneralaCountAfterLastReroll + unUnsefulPickUpsCount) )\n",
    "print(\"the prbability of getting a generala after three rerolls is :\", p_generala_after_three_rolls)"
   ]
  },
  {
   "cell_type": "markdown",
   "metadata": {},
   "source": [
    "The same can be done in order to compute the probabilities for all the other type of hands (poker, full, straight), we would just have to change the considitions of the if statements so that it would check for a full/poker/straight instead of a generala"
   ]
  },
  {
   "cell_type": "code",
   "execution_count": null,
   "metadata": {},
   "outputs": [],
   "source": []
  }
 ],
 "metadata": {
  "kernelspec": {
   "display_name": "Python 3",
   "language": "python",
   "name": "python3"
  },
  "language_info": {
   "codemirror_mode": {
    "name": "ipython",
    "version": 3
   },
   "file_extension": ".py",
   "mimetype": "text/x-python",
   "name": "python",
   "nbconvert_exporter": "python",
   "pygments_lexer": "ipython3",
   "version": "3.7.3"
  }
 },
 "nbformat": 4,
 "nbformat_minor": 2
}
