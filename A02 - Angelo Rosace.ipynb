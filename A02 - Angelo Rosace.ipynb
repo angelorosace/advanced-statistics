{
 "cells": [
  {
   "cell_type": "markdown",
   "metadata": {},
   "source": [
    "# Assignment 2\n",
    "\n",
    "## Angelo Rosace\n",
    "\n"
   ]
  },
  {
   "cell_type": "code",
   "execution_count": 33,
   "metadata": {},
   "outputs": [],
   "source": [
    "import pandas as pd\n",
    "import seaborn as sn\n",
    "import random as rand\n",
    "import matplotlib.pyplot as plt \n",
    "#read the files\n",
    "\n",
    "#plot the different values\n",
    "\n",
    "#implement algorithm\n",
    "#the algorithm will need to move in all directions (backwords and forward for each parameter)"
   ]
  },
  {
   "cell_type": "markdown",
   "metadata": {},
   "source": [
    "First of all we will need to read the file containing the result of the experiment"
   ]
  },
  {
   "cell_type": "code",
   "execution_count": 2,
   "metadata": {},
   "outputs": [
    {
     "data": {
      "text/html": [
       "<div>\n",
       "<style scoped>\n",
       "    .dataframe tbody tr th:only-of-type {\n",
       "        vertical-align: middle;\n",
       "    }\n",
       "\n",
       "    .dataframe tbody tr th {\n",
       "        vertical-align: top;\n",
       "    }\n",
       "\n",
       "    .dataframe thead th {\n",
       "        text-align: right;\n",
       "    }\n",
       "</style>\n",
       "<table border=\"1\" class=\"dataframe\">\n",
       "  <thead>\n",
       "    <tr style=\"text-align: right;\">\n",
       "      <th></th>\n",
       "      <th>Protein</th>\n",
       "      <th>Carbohydrates</th>\n",
       "      <th>Fat</th>\n",
       "      <th>ATP</th>\n",
       "    </tr>\n",
       "  </thead>\n",
       "  <tbody>\n",
       "    <tr>\n",
       "      <th>0</th>\n",
       "      <td>1.95</td>\n",
       "      <td>6.92</td>\n",
       "      <td>0.02</td>\n",
       "      <td>9.44</td>\n",
       "    </tr>\n",
       "    <tr>\n",
       "      <th>1</th>\n",
       "      <td>0.64</td>\n",
       "      <td>2.65</td>\n",
       "      <td>0.15</td>\n",
       "      <td>4.04</td>\n",
       "    </tr>\n",
       "    <tr>\n",
       "      <th>2</th>\n",
       "      <td>1.82</td>\n",
       "      <td>0.98</td>\n",
       "      <td>0.21</td>\n",
       "      <td>3.72</td>\n",
       "    </tr>\n",
       "    <tr>\n",
       "      <th>3</th>\n",
       "      <td>1.80</td>\n",
       "      <td>4.69</td>\n",
       "      <td>0.23</td>\n",
       "      <td>7.54</td>\n",
       "    </tr>\n",
       "    <tr>\n",
       "      <th>4</th>\n",
       "      <td>0.93</td>\n",
       "      <td>4.22</td>\n",
       "      <td>0.02</td>\n",
       "      <td>5.70</td>\n",
       "    </tr>\n",
       "    <tr>\n",
       "      <th>...</th>\n",
       "      <td>...</td>\n",
       "      <td>...</td>\n",
       "      <td>...</td>\n",
       "      <td>...</td>\n",
       "    </tr>\n",
       "    <tr>\n",
       "      <th>94</th>\n",
       "      <td>1.83</td>\n",
       "      <td>5.69</td>\n",
       "      <td>0.15</td>\n",
       "      <td>8.60</td>\n",
       "    </tr>\n",
       "    <tr>\n",
       "      <th>95</th>\n",
       "      <td>1.77</td>\n",
       "      <td>6.33</td>\n",
       "      <td>0.07</td>\n",
       "      <td>8.66</td>\n",
       "    </tr>\n",
       "    <tr>\n",
       "      <th>96</th>\n",
       "      <td>1.15</td>\n",
       "      <td>4.88</td>\n",
       "      <td>0.27</td>\n",
       "      <td>6.80</td>\n",
       "    </tr>\n",
       "    <tr>\n",
       "      <th>97</th>\n",
       "      <td>1.30</td>\n",
       "      <td>3.91</td>\n",
       "      <td>0.03</td>\n",
       "      <td>5.46</td>\n",
       "    </tr>\n",
       "    <tr>\n",
       "      <th>98</th>\n",
       "      <td>0.56</td>\n",
       "      <td>0.90</td>\n",
       "      <td>0.16</td>\n",
       "      <td>2.15</td>\n",
       "    </tr>\n",
       "  </tbody>\n",
       "</table>\n",
       "<p>99 rows × 4 columns</p>\n",
       "</div>"
      ],
      "text/plain": [
       "    Protein  Carbohydrates   Fat   ATP\n",
       "0      1.95           6.92  0.02  9.44\n",
       "1      0.64           2.65  0.15  4.04\n",
       "2      1.82           0.98  0.21  3.72\n",
       "3      1.80           4.69  0.23  7.54\n",
       "4      0.93           4.22  0.02  5.70\n",
       "..      ...            ...   ...   ...\n",
       "94     1.83           5.69  0.15  8.60\n",
       "95     1.77           6.33  0.07  8.66\n",
       "96     1.15           4.88  0.27  6.80\n",
       "97     1.30           3.91  0.03  5.46\n",
       "98     0.56           0.90  0.16  2.15\n",
       "\n",
       "[99 rows x 4 columns]"
      ]
     },
     "execution_count": 2,
     "metadata": {},
     "output_type": "execute_result"
    }
   ],
   "source": [
    "diet_and_atp = pd.read_csv(\"diet_and_atp.tsv\", sep = \"\\t\", header = [0])\n",
    "diet_and_atp"
   ]
  },
  {
   "cell_type": "markdown",
   "metadata": {},
   "source": [
    "Above is the table containing the data that came from the experiment done in the lab.\n",
    "In order to have a deeper understanding of the data we will plot each of the distributions of the different values."
   ]
  },
  {
   "cell_type": "code",
   "execution_count": 4,
   "metadata": {},
   "outputs": [
    {
     "data": {
      "text/plain": [
       "<matplotlib.axes._subplots.AxesSubplot at 0x7f7f1ef3a4e0>"
      ]
     },
     "execution_count": 4,
     "metadata": {},
     "output_type": "execute_result"
    },
    {
     "data": {
      "image/png": "[encoded data removed]",
      "text/plain": [
       "<Figure size 432x288 with 1 Axes>"
      ]
     },
     "metadata": {
      "needs_background": "light"
     },
     "output_type": "display_data"
    }
   ],
   "source": [
    "atp = diet_and_atp[\"ATP\"]\n",
    "prot = diet_and_atp[\"Protein\"]\n",
    "carb = diet_and_atp[\"Carbohydrates\"]\n",
    "fat = diet_and_atp[\"Fat\"]\n",
    "\n",
    "sn.distplot(atp)\n",
    "sn.distplot(prot)\n",
    "sn.distplot(carb)\n",
    "sn.distplot(fat)"
   ]
  },
  {
   "cell_type": "markdown",
   "metadata": {},
   "source": [
    "By taking a look to the graphs for all the variables individually we can recognize some sort of normal distribution for all of them.\n",
    "\n",
    "Besides from the data the experiment tells us also that the model describing our data is defined by this function:\n",
    "**atp = a * Protein + b * Carbohidrates + c * Fat + ε**\n",
    "\n",
    "This information plus the information we get by inspecting the data leads us to the next step: \n",
    "Implement a Markov Chain Monte Carlo algorithm."
   ]
  },
  {
   "cell_type": "code",
   "execution_count": 42,
   "metadata": {},
   "outputs": [
    {
     "name": "stdout",
     "output_type": "stream",
     "text": [
      "1.0450505050505052 3.707474747474747 0.16313131313131313\n"
     ]
    },
    {
     "data": {
      "text/plain": [
       "<matplotlib.legend.Legend at 0x7f7f1df38908>"
      ]
     },
     "execution_count": 42,
     "metadata": {},
     "output_type": "execute_result"
    },
    {
     "data": {
      "image/png": "[encoded data removed]",
      "text/plain": [
       "<Figure size 864x864 with 1 Axes>"
      ]
     },
     "metadata": {
      "needs_background": "light"
     },
     "output_type": "display_data"
    },
    {
     "data": {
      "image/png": "[encoded data removed]",
      "text/plain": [
       "<Figure size 864x864 with 1 Axes>"
      ]
     },
     "metadata": {
      "needs_background": "light"
     },
     "output_type": "display_data"
    },
    {
     "data": {
      "image/png": "[encoded data removed]",
      "text/plain": [
       "<Figure size 864x864 with 1 Axes>"
      ]
     },
     "metadata": {
      "needs_background": "light"
     },
     "output_type": "display_data"
    }
   ],
   "source": [
    "def mean(lst): \n",
    "    return sum(lst) / len(lst)\n",
    "\n",
    "# I want to obtain the posterior distribution of my samples\n",
    "\n",
    "iterations = 10000\n",
    "# This are the initial guesses for the mean. They are arbitrary, changing them will affect the execution of the algorithm\n",
    "current_prot = mean(prot) #- 0.5\n",
    "current_carb = mean(carb) #- 1\n",
    "current_fat = mean(fat) #- 0.05\n",
    "\n",
    "print(current_prot, current_carb, current_fat)\n",
    "\n",
    "# Record of the steps. It is a list of lists containing a list for each iteration. This lists are made of the values of the three variables explaining the model\n",
    "all_steps_prot = []\n",
    "all_steps_carb = []\n",
    "all_steps_fat = []\n",
    "# Record of the posterior distribution\n",
    "all_currents_prot = []\n",
    "all_currents_carb = []\n",
    "all_currents_fat = []\n",
    "\n",
    "for i in range(iterations):\n",
    "    # Move randomly, forward or backwards, at a maximun distance of 0.5 in each direction, that is on the surfaces explained by the three variables\n",
    "    step_prot = rand.random() - 0.5\n",
    "    step_carb = rand.random() - 0.5\n",
    "    step_fat = rand.random() - 0.5\n",
    "    # The step that I will decide if I accept it or not\n",
    "    candidate_current_prot = current_prot + step_prot\n",
    "    candidate_current_carb = current_carb + step_carb\n",
    "    candidate_current_fat = current_fat + step_fat\n",
    "    \n",
    "    p_actual_step_prot = len([sample for sample in prot if current_prot - 0.5 < sample and sample < current_prot + 0.5]) / float(len(prot))\n",
    "    p_candidate_step_prot = len([sample for sample in prot if candidate_current_prot - 0.5 < sample and sample < candidate_current_prot + 0.5]) / float(len(prot))\n",
    "    \n",
    "    p_actual_step_carb = len([sample for sample in carb if current_carb - 0.5 < sample and sample < current_carb + 0.5]) / float(len(carb))\n",
    "    p_candidate_step_carb = len([sample for sample in carb if candidate_current_carb - 0.5 < sample and sample < candidate_current_carb + 0.5]) / float(len(carb))\n",
    "    \n",
    "    p_actual_step_fat = len([sample for sample in fat if current_fat - 0.5 < sample and sample < current_fat + 0.5]) / float(len(fat))\n",
    "    p_candidate_step_fat = len([sample for sample in fat if candidate_current_fat - 0.5 < sample and sample < candidate_current_fat + 0.5]) / float(len(fat))\n",
    "    \n",
    "    \n",
    "    # If the new step is better, I always accept\n",
    "    # If not, I accept it randomly\n",
    "    if p_candidate_step_prot > p_actual_step_prot:\n",
    "        current_prot = candidate_current_prot\n",
    "    else:\n",
    "        random_number = rand.random()\n",
    "        if random_number <= p_candidate_step_prot / p_actual_step_prot:\n",
    "            current_prot = candidate_current_prot\n",
    "    \n",
    "    if p_candidate_step_carb > p_actual_step_carb:\n",
    "        current_carb = candidate_current_carb\n",
    "    else:\n",
    "        random_number = rand.random()\n",
    "        if random_number <= p_candidate_step_carb / p_actual_step_carb:\n",
    "            current_carb = candidate_current_carb\n",
    "            \n",
    "    if p_candidate_step_fat > p_actual_step_fat:\n",
    "        current_fat = candidate_current_fat\n",
    "    else:\n",
    "        random_number = rand.random()\n",
    "        if random_number <= p_candidate_step_fat / p_actual_step_fat:\n",
    "            current_fat = candidate_current_fat\n",
    "    \n",
    "    \n",
    "    # I record my step and where I'm standing\n",
    "    all_currents_prot.append(current_prot)\n",
    "    all_currents_carb.append(current_carb)\n",
    "    all_currents_fat.append(current_fat)\n",
    "    all_steps_prot.append(step_prot)\n",
    "    all_steps_carb.append(step_carb)\n",
    "    all_steps_fat.append(step_fat)\n",
    "    \n",
    "    \n",
    "\n",
    "# If I plot all my standings, I will have the likelihood function of the mean of the data \n",
    "# (the parameter of the model that I'm inferring)\n",
    "fig=plt.figure(figsize=(12, 12))\n",
    "sn.distplot(all_currents_prot, kde=False, label=\"my guess after %s iterations\" % iterations, norm_hist=True)\n",
    "# And I compare them with the original samples\n",
    "sn.distplot(prot, kde=False, label=\"original sample\", norm_hist=True)\n",
    "plt.legend()\n",
    "\n",
    "fig2=plt.figure(figsize=(12, 12))\n",
    "sn.distplot(all_currents_carb, kde=False, label=\"my guess after %s iterations\" % iterations, norm_hist=True)\n",
    "sn.distplot(carb, kde=False, label=\"original sample\", norm_hist=True)\n",
    "plt.legend()\n",
    "\n",
    "fig3=plt.figure(figsize=(12, 12))\n",
    "sn.distplot(all_currents_fat, kde=False, label=\"my guess after %s iterations\" % iterations, norm_hist=True)\n",
    "sn.distplot(fat, kde=False, label=\"original sample\", norm_hist=True)\n",
    "plt.legend()"
   ]
  },
  {
   "cell_type": "code",
   "execution_count": null,
   "metadata": {},
   "outputs": [],
   "source": []
  }
 ],
 "metadata": {
  "kernelspec": {
   "display_name": "Python 3",
   "language": "python",
   "name": "python3"
  },
  "language_info": {
   "codemirror_mode": {
    "name": "ipython",
    "version": 3
   },
   "file_extension": ".py",
   "mimetype": "text/x-python",
   "name": "python",
   "nbconvert_exporter": "python",
   "pygments_lexer": "ipython3",
   "version": "3.7.3"
  }
 },
 "nbformat": 4,
 "nbformat_minor": 2
}
